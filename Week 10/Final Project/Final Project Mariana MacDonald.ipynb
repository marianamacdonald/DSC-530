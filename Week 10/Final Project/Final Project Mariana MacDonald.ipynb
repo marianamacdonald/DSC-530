{
 "cells": [
  {
   "cell_type": "markdown",
   "id": "a8c68513-ff3c-4585-93cb-2a8fc250ee9d",
   "metadata": {},
   "source": [
    "## Final project - Mariana MacDonald"
   ]
  },
  {
   "cell_type": "markdown",
   "id": "a30e0b31-1d25-44ce-866d-e9c737d1e835",
   "metadata": {},
   "source": [
    "In this data, which disorder is more frequent, depression or others and how is depression compared to age,married,work."
   ]
  },
  {
   "cell_type": "code",
   "execution_count": 1,
   "id": "be693901-a22b-4f93-bdf2-c5cfa5a21497",
   "metadata": {},
   "outputs": [],
   "source": [
    "import pandas as pd\n",
    "import numpy as np\n",
    "import matplotlib.pyplot as plt\n",
    "import matplotlib.patches as mpatches\n",
    "from empiricaldist import Pmf\n",
    "from empiricaldist import Cdf\n",
    "import scipy.stats\n",
    "from scipy.stats import norm\n",
    "from scipy.stats import f_oneway\n",
    "import statsmodels.formula.api as smf\n",
    "import random\n",
    "\n",
    "import thinkstats2\n",
    "import thinkplot"
   ]
  },
  {
   "cell_type": "code",
   "execution_count": 3,
   "id": "0bd49077-40ad-4073-89f4-b77902acb5ea",
   "metadata": {},
   "outputs": [
    {
     "data": {
      "text/html": [
       "<div>\n",
       "<style scoped>\n",
       "    .dataframe tbody tr th:only-of-type {\n",
       "        vertical-align: middle;\n",
       "    }\n",
       "\n",
       "    .dataframe tbody tr th {\n",
       "        vertical-align: top;\n",
       "    }\n",
       "\n",
       "    .dataframe thead th {\n",
       "        text-align: right;\n",
       "    }\n",
       "</style>\n",
       "<table border=\"1\" class=\"dataframe\">\n",
       "  <thead>\n",
       "    <tr style=\"text-align: right;\">\n",
       "      <th></th>\n",
       "      <th>number</th>\n",
       "      <th>days</th>\n",
       "      <th>gender</th>\n",
       "      <th>age</th>\n",
       "      <th>afftype</th>\n",
       "      <th>melanch</th>\n",
       "      <th>inpatient</th>\n",
       "      <th>edu</th>\n",
       "      <th>marriage</th>\n",
       "      <th>work</th>\n",
       "      <th>madrs1</th>\n",
       "      <th>madrs2</th>\n",
       "    </tr>\n",
       "  </thead>\n",
       "  <tbody>\n",
       "    <tr>\n",
       "      <th>0</th>\n",
       "      <td>condition_1</td>\n",
       "      <td>11</td>\n",
       "      <td>2</td>\n",
       "      <td>35-39</td>\n",
       "      <td>2.0</td>\n",
       "      <td>2.0</td>\n",
       "      <td>2.0</td>\n",
       "      <td>6-10</td>\n",
       "      <td>1.0</td>\n",
       "      <td>2.0</td>\n",
       "      <td>19.0</td>\n",
       "      <td>19.0</td>\n",
       "    </tr>\n",
       "    <tr>\n",
       "      <th>1</th>\n",
       "      <td>condition_2</td>\n",
       "      <td>18</td>\n",
       "      <td>2</td>\n",
       "      <td>40-44</td>\n",
       "      <td>1.0</td>\n",
       "      <td>2.0</td>\n",
       "      <td>2.0</td>\n",
       "      <td>6-10</td>\n",
       "      <td>2.0</td>\n",
       "      <td>2.0</td>\n",
       "      <td>24.0</td>\n",
       "      <td>11.0</td>\n",
       "    </tr>\n",
       "    <tr>\n",
       "      <th>2</th>\n",
       "      <td>condition_3</td>\n",
       "      <td>13</td>\n",
       "      <td>1</td>\n",
       "      <td>45-49</td>\n",
       "      <td>2.0</td>\n",
       "      <td>2.0</td>\n",
       "      <td>2.0</td>\n",
       "      <td>6-10</td>\n",
       "      <td>2.0</td>\n",
       "      <td>2.0</td>\n",
       "      <td>24.0</td>\n",
       "      <td>25.0</td>\n",
       "    </tr>\n",
       "    <tr>\n",
       "      <th>3</th>\n",
       "      <td>condition_4</td>\n",
       "      <td>13</td>\n",
       "      <td>2</td>\n",
       "      <td>25-29</td>\n",
       "      <td>2.0</td>\n",
       "      <td>2.0</td>\n",
       "      <td>2.0</td>\n",
       "      <td>11-15</td>\n",
       "      <td>1.0</td>\n",
       "      <td>1.0</td>\n",
       "      <td>20.0</td>\n",
       "      <td>16.0</td>\n",
       "    </tr>\n",
       "    <tr>\n",
       "      <th>4</th>\n",
       "      <td>condition_5</td>\n",
       "      <td>13</td>\n",
       "      <td>2</td>\n",
       "      <td>50-54</td>\n",
       "      <td>2.0</td>\n",
       "      <td>2.0</td>\n",
       "      <td>2.0</td>\n",
       "      <td>11-15</td>\n",
       "      <td>2.0</td>\n",
       "      <td>2.0</td>\n",
       "      <td>26.0</td>\n",
       "      <td>26.0</td>\n",
       "    </tr>\n",
       "  </tbody>\n",
       "</table>\n",
       "</div>"
      ],
      "text/plain": [
       "        number  days  gender    age  afftype  melanch  inpatient    edu  \\\n",
       "0  condition_1    11       2  35-39      2.0      2.0        2.0   6-10   \n",
       "1  condition_2    18       2  40-44      1.0      2.0        2.0   6-10   \n",
       "2  condition_3    13       1  45-49      2.0      2.0        2.0   6-10   \n",
       "3  condition_4    13       2  25-29      2.0      2.0        2.0  11-15   \n",
       "4  condition_5    13       2  50-54      2.0      2.0        2.0  11-15   \n",
       "\n",
       "   marriage  work  madrs1  madrs2  \n",
       "0       1.0   2.0    19.0    19.0  \n",
       "1       2.0   2.0    24.0    11.0  \n",
       "2       2.0   2.0    24.0    25.0  \n",
       "3       1.0   1.0    20.0    16.0  \n",
       "4       2.0   2.0    26.0    26.0  "
      ]
     },
     "execution_count": 3,
     "metadata": {},
     "output_type": "execute_result"
    }
   ],
   "source": [
    "#import data\n",
    "df = pd.read_csv('scores.csv')\n",
    "df.head()"
   ]
  },
  {
   "cell_type": "markdown",
   "id": "01acd184-6f52-4851-b324-923a86933dac",
   "metadata": {},
   "source": [
    "## 5 variables in dataset used during  analysis"
   ]
  },
  {
   "cell_type": "markdown",
   "id": "281ed7a7-be57-424b-95d2-5dc9e45b02cf",
   "metadata": {},
   "source": [
    "The 5 variables: gender - 1 or 2 // age // afftype // edu// work "
   ]
  },
  {
   "cell_type": "code",
   "execution_count": 4,
   "id": "23a696ff-6201-4353-9b32-5970191d2308",
   "metadata": {},
   "outputs": [
    {
     "data": {
      "text/plain": [
       "(55, 12)"
      ]
     },
     "execution_count": 4,
     "metadata": {},
     "output_type": "execute_result"
    }
   ],
   "source": [
    "df.shape"
   ]
  },
  {
   "cell_type": "markdown",
   "id": "11f1d810-7927-4a1e-9b8f-6f8c9992f5b9",
   "metadata": {},
   "source": [
    "## Describe what the 5 variables mean in the dataset"
   ]
  },
  {
   "cell_type": "code",
   "execution_count": 5,
   "id": "bb2197a3-3196-422b-9c82-dcacb127b8bd",
   "metadata": {},
   "outputs": [
    {
     "name": "stdout",
     "output_type": "stream",
     "text": [
      "<class 'pandas.core.frame.DataFrame'>\n",
      "RangeIndex: 55 entries, 0 to 54\n",
      "Data columns (total 12 columns):\n",
      " #   Column     Non-Null Count  Dtype  \n",
      "---  ------     --------------  -----  \n",
      " 0   number     55 non-null     object \n",
      " 1   days       55 non-null     int64  \n",
      " 2   gender     55 non-null     int64  \n",
      " 3   age        55 non-null     object \n",
      " 4   afftype    23 non-null     float64\n",
      " 5   melanch    20 non-null     float64\n",
      " 6   inpatient  23 non-null     float64\n",
      " 7   edu        53 non-null     object \n",
      " 8   marriage   23 non-null     float64\n",
      " 9   work       23 non-null     float64\n",
      " 10  madrs1     23 non-null     float64\n",
      " 11  madrs2     23 non-null     float64\n",
      "dtypes: float64(7), int64(2), object(3)\n",
      "memory usage: 5.3+ KB\n"
     ]
    }
   ],
   "source": [
    "df.info()"
   ]
  },
  {
   "cell_type": "markdown",
   "id": "12668b4b-ade8-4d21-ba93-5992ad5bd45d",
   "metadata": {},
   "source": [
    "\"It contains the following columns; number (patient identifier), days (number of days of measurements), gender (1 or 2 for female or male), age (age in age groups), afftype (1: bipolar II, 2: unipolar depressive, 3: bipolar I), melanch (1: melancholia, 2: no melancholia), inpatient (1: inpatient, 2: outpatient), edu (education grouped in years), marriage (1: married or cohabiting, 2: single), work (1: working or studying, 2: unemployed/sick leave/pension), madrs1 (MADRS score when measurement started), madrs2 (MADRS when measurement stopped).\""
   ]
  },
  {
   "cell_type": "markdown",
   "id": "5a2ca95a-5145-40ec-9191-2f1faa5af3f8",
   "metadata": {},
   "source": [
    "\"The underlying data sets provide the motor activity of 23 patients with depression and 32 controls (healthy). The severity of the depression is assessed by experts using the Montgomery-Asberg Depression Rating Scale (MADRS). MADRS levels range from 0 to 60. Values above 30 represent a severe depression, values below 10 indicate a healthy state.\""
   ]
  },
  {
   "cell_type": "code",
   "execution_count": 6,
   "id": "6df75e21-88eb-4ae7-8565-95968d46eb9b",
   "metadata": {},
   "outputs": [
    {
     "data": {
      "text/html": [
       "<div>\n",
       "<style scoped>\n",
       "    .dataframe tbody tr th:only-of-type {\n",
       "        vertical-align: middle;\n",
       "    }\n",
       "\n",
       "    .dataframe tbody tr th {\n",
       "        vertical-align: top;\n",
       "    }\n",
       "\n",
       "    .dataframe thead th {\n",
       "        text-align: right;\n",
       "    }\n",
       "</style>\n",
       "<table border=\"1\" class=\"dataframe\">\n",
       "  <thead>\n",
       "    <tr style=\"text-align: right;\">\n",
       "      <th></th>\n",
       "      <th>number</th>\n",
       "      <th>days</th>\n",
       "      <th>gender</th>\n",
       "      <th>age</th>\n",
       "      <th>afftype</th>\n",
       "      <th>melanch</th>\n",
       "      <th>inpatient</th>\n",
       "      <th>edu</th>\n",
       "      <th>marriage</th>\n",
       "      <th>work</th>\n",
       "      <th>madrs1</th>\n",
       "      <th>madrs2</th>\n",
       "    </tr>\n",
       "  </thead>\n",
       "  <tbody>\n",
       "    <tr>\n",
       "      <th>0</th>\n",
       "      <td>condition_1</td>\n",
       "      <td>11</td>\n",
       "      <td>2</td>\n",
       "      <td>35-39</td>\n",
       "      <td>2.0</td>\n",
       "      <td>2.0</td>\n",
       "      <td>2.0</td>\n",
       "      <td>6-10</td>\n",
       "      <td>1.0</td>\n",
       "      <td>2.0</td>\n",
       "      <td>19.0</td>\n",
       "      <td>19.0</td>\n",
       "    </tr>\n",
       "    <tr>\n",
       "      <th>1</th>\n",
       "      <td>condition_2</td>\n",
       "      <td>18</td>\n",
       "      <td>2</td>\n",
       "      <td>40-44</td>\n",
       "      <td>1.0</td>\n",
       "      <td>2.0</td>\n",
       "      <td>2.0</td>\n",
       "      <td>6-10</td>\n",
       "      <td>2.0</td>\n",
       "      <td>2.0</td>\n",
       "      <td>24.0</td>\n",
       "      <td>11.0</td>\n",
       "    </tr>\n",
       "    <tr>\n",
       "      <th>2</th>\n",
       "      <td>condition_3</td>\n",
       "      <td>13</td>\n",
       "      <td>1</td>\n",
       "      <td>45-49</td>\n",
       "      <td>2.0</td>\n",
       "      <td>2.0</td>\n",
       "      <td>2.0</td>\n",
       "      <td>6-10</td>\n",
       "      <td>2.0</td>\n",
       "      <td>2.0</td>\n",
       "      <td>24.0</td>\n",
       "      <td>25.0</td>\n",
       "    </tr>\n",
       "    <tr>\n",
       "      <th>3</th>\n",
       "      <td>condition_4</td>\n",
       "      <td>13</td>\n",
       "      <td>2</td>\n",
       "      <td>25-29</td>\n",
       "      <td>2.0</td>\n",
       "      <td>2.0</td>\n",
       "      <td>2.0</td>\n",
       "      <td>11-15</td>\n",
       "      <td>1.0</td>\n",
       "      <td>1.0</td>\n",
       "      <td>20.0</td>\n",
       "      <td>16.0</td>\n",
       "    </tr>\n",
       "    <tr>\n",
       "      <th>4</th>\n",
       "      <td>condition_5</td>\n",
       "      <td>13</td>\n",
       "      <td>2</td>\n",
       "      <td>50-54</td>\n",
       "      <td>2.0</td>\n",
       "      <td>2.0</td>\n",
       "      <td>2.0</td>\n",
       "      <td>11-15</td>\n",
       "      <td>2.0</td>\n",
       "      <td>2.0</td>\n",
       "      <td>26.0</td>\n",
       "      <td>26.0</td>\n",
       "    </tr>\n",
       "    <tr>\n",
       "      <th>5</th>\n",
       "      <td>condition_6</td>\n",
       "      <td>7</td>\n",
       "      <td>1</td>\n",
       "      <td>35-39</td>\n",
       "      <td>2.0</td>\n",
       "      <td>2.0</td>\n",
       "      <td>2.0</td>\n",
       "      <td>6-10</td>\n",
       "      <td>1.0</td>\n",
       "      <td>2.0</td>\n",
       "      <td>18.0</td>\n",
       "      <td>15.0</td>\n",
       "    </tr>\n",
       "    <tr>\n",
       "      <th>9</th>\n",
       "      <td>condition_10</td>\n",
       "      <td>9</td>\n",
       "      <td>2</td>\n",
       "      <td>45-49</td>\n",
       "      <td>2.0</td>\n",
       "      <td>2.0</td>\n",
       "      <td>2.0</td>\n",
       "      <td>6-10</td>\n",
       "      <td>1.0</td>\n",
       "      <td>2.0</td>\n",
       "      <td>28.0</td>\n",
       "      <td>21.0</td>\n",
       "    </tr>\n",
       "    <tr>\n",
       "      <th>10</th>\n",
       "      <td>condition_11</td>\n",
       "      <td>14</td>\n",
       "      <td>1</td>\n",
       "      <td>45-49</td>\n",
       "      <td>2.0</td>\n",
       "      <td>2.0</td>\n",
       "      <td>2.0</td>\n",
       "      <td>6-10</td>\n",
       "      <td>1.0</td>\n",
       "      <td>2.0</td>\n",
       "      <td>24.0</td>\n",
       "      <td>24.0</td>\n",
       "    </tr>\n",
       "    <tr>\n",
       "      <th>11</th>\n",
       "      <td>condition_12</td>\n",
       "      <td>12</td>\n",
       "      <td>2</td>\n",
       "      <td>40-44</td>\n",
       "      <td>1.0</td>\n",
       "      <td>2.0</td>\n",
       "      <td>2.0</td>\n",
       "      <td>6-10</td>\n",
       "      <td>2.0</td>\n",
       "      <td>2.0</td>\n",
       "      <td>25.0</td>\n",
       "      <td>21.0</td>\n",
       "    </tr>\n",
       "    <tr>\n",
       "      <th>12</th>\n",
       "      <td>condition_13</td>\n",
       "      <td>14</td>\n",
       "      <td>2</td>\n",
       "      <td>35-39</td>\n",
       "      <td>1.0</td>\n",
       "      <td>2.0</td>\n",
       "      <td>2.0</td>\n",
       "      <td>11-15</td>\n",
       "      <td>2.0</td>\n",
       "      <td>2.0</td>\n",
       "      <td>18.0</td>\n",
       "      <td>13.0</td>\n",
       "    </tr>\n",
       "    <tr>\n",
       "      <th>13</th>\n",
       "      <td>condition_14</td>\n",
       "      <td>14</td>\n",
       "      <td>1</td>\n",
       "      <td>60-64</td>\n",
       "      <td>1.0</td>\n",
       "      <td>2.0</td>\n",
       "      <td>2.0</td>\n",
       "      <td>6-10</td>\n",
       "      <td>2.0</td>\n",
       "      <td>2.0</td>\n",
       "      <td>28.0</td>\n",
       "      <td>19.0</td>\n",
       "    </tr>\n",
       "    <tr>\n",
       "      <th>14</th>\n",
       "      <td>condition_15</td>\n",
       "      <td>13</td>\n",
       "      <td>2</td>\n",
       "      <td>55-59</td>\n",
       "      <td>2.0</td>\n",
       "      <td>2.0</td>\n",
       "      <td>2.0</td>\n",
       "      <td>11-15</td>\n",
       "      <td>1.0</td>\n",
       "      <td>1.0</td>\n",
       "      <td>14.0</td>\n",
       "      <td>18.0</td>\n",
       "    </tr>\n",
       "    <tr>\n",
       "      <th>15</th>\n",
       "      <td>condition_16</td>\n",
       "      <td>16</td>\n",
       "      <td>1</td>\n",
       "      <td>45-49</td>\n",
       "      <td>2.0</td>\n",
       "      <td>2.0</td>\n",
       "      <td>2.0</td>\n",
       "      <td>11-15</td>\n",
       "      <td>1.0</td>\n",
       "      <td>2.0</td>\n",
       "      <td>13.0</td>\n",
       "      <td>17.0</td>\n",
       "    </tr>\n",
       "    <tr>\n",
       "      <th>16</th>\n",
       "      <td>condition_17</td>\n",
       "      <td>13</td>\n",
       "      <td>1</td>\n",
       "      <td>50-54</td>\n",
       "      <td>1.0</td>\n",
       "      <td>2.0</td>\n",
       "      <td>2.0</td>\n",
       "      <td>6-10</td>\n",
       "      <td>1.0</td>\n",
       "      <td>2.0</td>\n",
       "      <td>17.0</td>\n",
       "      <td>15.0</td>\n",
       "    </tr>\n",
       "    <tr>\n",
       "      <th>17</th>\n",
       "      <td>condition_18</td>\n",
       "      <td>13</td>\n",
       "      <td>2</td>\n",
       "      <td>40-44</td>\n",
       "      <td>3.0</td>\n",
       "      <td>2.0</td>\n",
       "      <td>2.0</td>\n",
       "      <td>11-15</td>\n",
       "      <td>2.0</td>\n",
       "      <td>2.0</td>\n",
       "      <td>18.0</td>\n",
       "      <td>15.0</td>\n",
       "    </tr>\n",
       "    <tr>\n",
       "      <th>18</th>\n",
       "      <td>condition_19</td>\n",
       "      <td>13</td>\n",
       "      <td>2</td>\n",
       "      <td>50-54</td>\n",
       "      <td>2.0</td>\n",
       "      <td>2.0</td>\n",
       "      <td>1.0</td>\n",
       "      <td>16-20</td>\n",
       "      <td>2.0</td>\n",
       "      <td>2.0</td>\n",
       "      <td>26.0</td>\n",
       "      <td>21.0</td>\n",
       "    </tr>\n",
       "    <tr>\n",
       "      <th>19</th>\n",
       "      <td>condition_20</td>\n",
       "      <td>13</td>\n",
       "      <td>1</td>\n",
       "      <td>30-34</td>\n",
       "      <td>2.0</td>\n",
       "      <td>1.0</td>\n",
       "      <td>1.0</td>\n",
       "      <td>6-10</td>\n",
       "      <td>1.0</td>\n",
       "      <td>2.0</td>\n",
       "      <td>27.0</td>\n",
       "      <td>25.0</td>\n",
       "    </tr>\n",
       "    <tr>\n",
       "      <th>20</th>\n",
       "      <td>condition_21</td>\n",
       "      <td>13</td>\n",
       "      <td>2</td>\n",
       "      <td>35-39</td>\n",
       "      <td>2.0</td>\n",
       "      <td>2.0</td>\n",
       "      <td>1.0</td>\n",
       "      <td>6-10</td>\n",
       "      <td>2.0</td>\n",
       "      <td>2.0</td>\n",
       "      <td>26.0</td>\n",
       "      <td>21.0</td>\n",
       "    </tr>\n",
       "    <tr>\n",
       "      <th>21</th>\n",
       "      <td>condition_22</td>\n",
       "      <td>14</td>\n",
       "      <td>1</td>\n",
       "      <td>65-69</td>\n",
       "      <td>2.0</td>\n",
       "      <td>2.0</td>\n",
       "      <td>1.0</td>\n",
       "      <td></td>\n",
       "      <td>2.0</td>\n",
       "      <td>2.0</td>\n",
       "      <td>29.0</td>\n",
       "      <td>28.0</td>\n",
       "    </tr>\n",
       "    <tr>\n",
       "      <th>22</th>\n",
       "      <td>condition_23</td>\n",
       "      <td>16</td>\n",
       "      <td>1</td>\n",
       "      <td>30-34</td>\n",
       "      <td>2.0</td>\n",
       "      <td>2.0</td>\n",
       "      <td>1.0</td>\n",
       "      <td>16-20</td>\n",
       "      <td>2.0</td>\n",
       "      <td>2.0</td>\n",
       "      <td>29.0</td>\n",
       "      <td>23.0</td>\n",
       "    </tr>\n",
       "  </tbody>\n",
       "</table>\n",
       "</div>"
      ],
      "text/plain": [
       "          number  days  gender    age  afftype  melanch  inpatient    edu  \\\n",
       "0    condition_1    11       2  35-39      2.0      2.0        2.0   6-10   \n",
       "1    condition_2    18       2  40-44      1.0      2.0        2.0   6-10   \n",
       "2    condition_3    13       1  45-49      2.0      2.0        2.0   6-10   \n",
       "3    condition_4    13       2  25-29      2.0      2.0        2.0  11-15   \n",
       "4    condition_5    13       2  50-54      2.0      2.0        2.0  11-15   \n",
       "5    condition_6     7       1  35-39      2.0      2.0        2.0   6-10   \n",
       "9   condition_10     9       2  45-49      2.0      2.0        2.0   6-10   \n",
       "10  condition_11    14       1  45-49      2.0      2.0        2.0   6-10   \n",
       "11  condition_12    12       2  40-44      1.0      2.0        2.0   6-10   \n",
       "12  condition_13    14       2  35-39      1.0      2.0        2.0  11-15   \n",
       "13  condition_14    14       1  60-64      1.0      2.0        2.0   6-10   \n",
       "14  condition_15    13       2  55-59      2.0      2.0        2.0  11-15   \n",
       "15  condition_16    16       1  45-49      2.0      2.0        2.0  11-15   \n",
       "16  condition_17    13       1  50-54      1.0      2.0        2.0   6-10   \n",
       "17  condition_18    13       2  40-44      3.0      2.0        2.0  11-15   \n",
       "18  condition_19    13       2  50-54      2.0      2.0        1.0  16-20   \n",
       "19  condition_20    13       1  30-34      2.0      1.0        1.0   6-10   \n",
       "20  condition_21    13       2  35-39      2.0      2.0        1.0   6-10   \n",
       "21  condition_22    14       1  65-69      2.0      2.0        1.0          \n",
       "22  condition_23    16       1  30-34      2.0      2.0        1.0  16-20   \n",
       "\n",
       "    marriage  work  madrs1  madrs2  \n",
       "0        1.0   2.0    19.0    19.0  \n",
       "1        2.0   2.0    24.0    11.0  \n",
       "2        2.0   2.0    24.0    25.0  \n",
       "3        1.0   1.0    20.0    16.0  \n",
       "4        2.0   2.0    26.0    26.0  \n",
       "5        1.0   2.0    18.0    15.0  \n",
       "9        1.0   2.0    28.0    21.0  \n",
       "10       1.0   2.0    24.0    24.0  \n",
       "11       2.0   2.0    25.0    21.0  \n",
       "12       2.0   2.0    18.0    13.0  \n",
       "13       2.0   2.0    28.0    19.0  \n",
       "14       1.0   1.0    14.0    18.0  \n",
       "15       1.0   2.0    13.0    17.0  \n",
       "16       1.0   2.0    17.0    15.0  \n",
       "17       2.0   2.0    18.0    15.0  \n",
       "18       2.0   2.0    26.0    21.0  \n",
       "19       1.0   2.0    27.0    25.0  \n",
       "20       2.0   2.0    26.0    21.0  \n",
       "21       2.0   2.0    29.0    28.0  \n",
       "22       2.0   2.0    29.0    23.0  "
      ]
     },
     "execution_count": 6,
     "metadata": {},
     "output_type": "execute_result"
    }
   ],
   "source": [
    "df_cleaned = df.dropna()\n",
    "df_cleaned"
   ]
  },
  {
   "cell_type": "code",
   "execution_count": 7,
   "id": "3dbbde57-e3f4-436b-aed9-802d55a936e7",
   "metadata": {},
   "outputs": [
    {
     "data": {
      "text/html": [
       "<div>\n",
       "<style scoped>\n",
       "    .dataframe tbody tr th:only-of-type {\n",
       "        vertical-align: middle;\n",
       "    }\n",
       "\n",
       "    .dataframe tbody tr th {\n",
       "        vertical-align: top;\n",
       "    }\n",
       "\n",
       "    .dataframe thead th {\n",
       "        text-align: right;\n",
       "    }\n",
       "</style>\n",
       "<table border=\"1\" class=\"dataframe\">\n",
       "  <thead>\n",
       "    <tr style=\"text-align: right;\">\n",
       "      <th></th>\n",
       "      <th>gender</th>\n",
       "      <th>age</th>\n",
       "      <th>afftype</th>\n",
       "      <th>edu</th>\n",
       "      <th>marriage</th>\n",
       "    </tr>\n",
       "  </thead>\n",
       "  <tbody>\n",
       "    <tr>\n",
       "      <th>0</th>\n",
       "      <td>2</td>\n",
       "      <td>35-39</td>\n",
       "      <td>2.0</td>\n",
       "      <td>6-10</td>\n",
       "      <td>1.0</td>\n",
       "    </tr>\n",
       "    <tr>\n",
       "      <th>1</th>\n",
       "      <td>2</td>\n",
       "      <td>40-44</td>\n",
       "      <td>1.0</td>\n",
       "      <td>6-10</td>\n",
       "      <td>2.0</td>\n",
       "    </tr>\n",
       "    <tr>\n",
       "      <th>2</th>\n",
       "      <td>1</td>\n",
       "      <td>45-49</td>\n",
       "      <td>2.0</td>\n",
       "      <td>6-10</td>\n",
       "      <td>2.0</td>\n",
       "    </tr>\n",
       "    <tr>\n",
       "      <th>3</th>\n",
       "      <td>2</td>\n",
       "      <td>25-29</td>\n",
       "      <td>2.0</td>\n",
       "      <td>11-15</td>\n",
       "      <td>1.0</td>\n",
       "    </tr>\n",
       "    <tr>\n",
       "      <th>4</th>\n",
       "      <td>2</td>\n",
       "      <td>50-54</td>\n",
       "      <td>2.0</td>\n",
       "      <td>11-15</td>\n",
       "      <td>2.0</td>\n",
       "    </tr>\n",
       "  </tbody>\n",
       "</table>\n",
       "</div>"
      ],
      "text/plain": [
       "   gender    age  afftype    edu  marriage\n",
       "0       2  35-39      2.0   6-10       1.0\n",
       "1       2  40-44      1.0   6-10       2.0\n",
       "2       1  45-49      2.0   6-10       2.0\n",
       "3       2  25-29      2.0  11-15       1.0\n",
       "4       2  50-54      2.0  11-15       2.0"
      ]
     },
     "execution_count": 7,
     "metadata": {},
     "output_type": "execute_result"
    }
   ],
   "source": [
    "df_cleaned[['gender', 'age', 'afftype', 'edu', 'marriage']].head()\n"
   ]
  },
  {
   "cell_type": "markdown",
   "id": "afa5fea5-4ba0-4880-9fd7-8425f751c276",
   "metadata": {},
   "source": [
    "## Include a histogram of each of the 5 variables"
   ]
  },
  {
   "cell_type": "code",
   "execution_count": 8,
   "id": "07217565-ce1c-477a-8618-34ac027d89b5",
   "metadata": {},
   "outputs": [
    {
     "data": {
      "image/png": "[encoded data removed]",
      "text/plain": [
       "<Figure size 432x288 with 1 Axes>"
      ]
     },
     "metadata": {
      "needs_background": "light"
     },
     "output_type": "display_data"
    }
   ],
   "source": [
    "afftype = df[\"gender\"]\n",
    "n, bins, patches = plt.hist(afftype, 4, facecolor = \"b\", alpha = 0.75, edgecolor = \"black\")\n",
    "plt.xlabel(\"Gender\")\n",
    "plt.ylabel(\"Count\")\n",
    "plt.title(\"Gender Histogram\")\n",
    "plt.show()"
   ]
  },
  {
   "cell_type": "code",
   "execution_count": 9,
   "id": "272e89bc-1e50-402a-a9bc-ffa8f6f2c2f2",
   "metadata": {
    "tags": []
   },
   "outputs": [
    {
     "data": {
      "image/png": "[encoded data removed]",
      "text/plain": [
       "<Figure size 432x288 with 1 Axes>"
      ]
     },
     "metadata": {
      "needs_background": "light"
     },
     "output_type": "display_data"
    }
   ],
   "source": [
    "age = df_cleaned[\"age\"]\n",
    "n, bins, patches = plt.hist(age, 54, facecolor = \"b\", alpha = 0.75, edgecolor = \"black\")\n",
    "plt.xlabel(\"Age\")\n",
    "plt.ylabel(\"Count\")\n",
    "plt.title(\"Age Histogram\")\n",
    "plt.show()"
   ]
  },
  {
   "cell_type": "code",
   "execution_count": 10,
   "id": "aa2f4e37-7c33-4f65-a9d2-925339c44030",
   "metadata": {
    "tags": []
   },
   "outputs": [
    {
     "data": {
      "image/png": "[encoded data removed]",
      "text/plain": [
       "<Figure size 432x288 with 1 Axes>"
      ]
     },
     "metadata": {
      "needs_background": "light"
     },
     "output_type": "display_data"
    }
   ],
   "source": [
    "afftype = df[\"afftype\"]\n",
    "n, bins, patches = plt.hist(afftype, 4, facecolor = \"b\", alpha = 0.75, edgecolor = \"black\")\n",
    "plt.xlabel(\"Disorder type\")\n",
    "plt.ylabel(\"Count\")\n",
    "plt.title(\"Disorder Histogram\")\n",
    "plt.show()"
   ]
  },
  {
   "cell_type": "code",
   "execution_count": 11,
   "id": "e6acec51-cab4-4823-ad00-f1e4eb927469",
   "metadata": {},
   "outputs": [
    {
     "data": {
      "image/png": "[encoded data removed]",
      "text/plain": [
       "<Figure size 432x288 with 1 Axes>"
      ]
     },
     "metadata": {
      "needs_background": "light"
     },
     "output_type": "display_data"
    }
   ],
   "source": [
    "afftype = df[\"marriage\"]\n",
    "n, bins, patches = plt.hist(afftype, 4, facecolor = \"b\", alpha = 0.75, edgecolor = \"black\")\n",
    "plt.xlabel(\"Marriage\")\n",
    "plt.ylabel(\"Count\")\n",
    "plt.title(\"Marriage Histogram\")\n",
    "plt.show()"
   ]
  },
  {
   "cell_type": "code",
   "execution_count": 12,
   "id": "7d079783-f1d3-4242-ae03-5e3e6de17a22",
   "metadata": {
    "tags": []
   },
   "outputs": [
    {
     "data": {
      "image/png": "[encoded data removed]",
      "text/plain": [
       "<Figure size 432x288 with 1 Axes>"
      ]
     },
     "metadata": {
      "needs_background": "light"
     },
     "output_type": "display_data"
    }
   ],
   "source": [
    "afftype = df[\"work\"]\n",
    "n, bins, patches = plt.hist(afftype, 4, facecolor = \"b\", alpha = 0.75, edgecolor = \"black\")\n",
    "plt.xlabel(\"Work status\")\n",
    "plt.ylabel(\"Count\")\n",
    "plt.title(\"Work Histogram\")\n",
    "plt.show()"
   ]
  },
  {
   "cell_type": "markdown",
   "id": "8976ed50-b520-45b8-bf3b-cf51721ff9b5",
   "metadata": {},
   "source": [
    "## Include the other descriptive characteristics about the variables: Mean, Mode, Spread, and Tails "
   ]
  },
  {
   "cell_type": "code",
   "execution_count": 13,
   "id": "be796336-8ee9-43ed-b0e0-01798e3d0118",
   "metadata": {},
   "outputs": [
    {
     "data": {
      "text/html": [
       "<div>\n",
       "<style scoped>\n",
       "    .dataframe tbody tr th:only-of-type {\n",
       "        vertical-align: middle;\n",
       "    }\n",
       "\n",
       "    .dataframe tbody tr th {\n",
       "        vertical-align: top;\n",
       "    }\n",
       "\n",
       "    .dataframe thead th {\n",
       "        text-align: right;\n",
       "    }\n",
       "</style>\n",
       "<table border=\"1\" class=\"dataframe\">\n",
       "  <thead>\n",
       "    <tr style=\"text-align: right;\">\n",
       "      <th></th>\n",
       "      <th>days</th>\n",
       "      <th>gender</th>\n",
       "      <th>afftype</th>\n",
       "      <th>melanch</th>\n",
       "      <th>inpatient</th>\n",
       "      <th>marriage</th>\n",
       "      <th>work</th>\n",
       "      <th>madrs1</th>\n",
       "      <th>madrs2</th>\n",
       "    </tr>\n",
       "  </thead>\n",
       "  <tbody>\n",
       "    <tr>\n",
       "      <th>count</th>\n",
       "      <td>20.00000</td>\n",
       "      <td>20.000000</td>\n",
       "      <td>20.000000</td>\n",
       "      <td>20.000000</td>\n",
       "      <td>20.000000</td>\n",
       "      <td>20.000000</td>\n",
       "      <td>20.000000</td>\n",
       "      <td>20.000000</td>\n",
       "      <td>20.000000</td>\n",
       "    </tr>\n",
       "    <tr>\n",
       "      <th>mean</th>\n",
       "      <td>13.10000</td>\n",
       "      <td>1.550000</td>\n",
       "      <td>1.800000</td>\n",
       "      <td>1.950000</td>\n",
       "      <td>1.750000</td>\n",
       "      <td>1.550000</td>\n",
       "      <td>1.900000</td>\n",
       "      <td>22.650000</td>\n",
       "      <td>19.650000</td>\n",
       "    </tr>\n",
       "    <tr>\n",
       "      <th>std</th>\n",
       "      <td>2.33734</td>\n",
       "      <td>0.510418</td>\n",
       "      <td>0.523148</td>\n",
       "      <td>0.223607</td>\n",
       "      <td>0.444262</td>\n",
       "      <td>0.510418</td>\n",
       "      <td>0.307794</td>\n",
       "      <td>5.060424</td>\n",
       "      <td>4.659738</td>\n",
       "    </tr>\n",
       "    <tr>\n",
       "      <th>min</th>\n",
       "      <td>7.00000</td>\n",
       "      <td>1.000000</td>\n",
       "      <td>1.000000</td>\n",
       "      <td>1.000000</td>\n",
       "      <td>1.000000</td>\n",
       "      <td>1.000000</td>\n",
       "      <td>1.000000</td>\n",
       "      <td>13.000000</td>\n",
       "      <td>11.000000</td>\n",
       "    </tr>\n",
       "    <tr>\n",
       "      <th>25%</th>\n",
       "      <td>13.00000</td>\n",
       "      <td>1.000000</td>\n",
       "      <td>1.750000</td>\n",
       "      <td>2.000000</td>\n",
       "      <td>1.750000</td>\n",
       "      <td>1.000000</td>\n",
       "      <td>2.000000</td>\n",
       "      <td>18.000000</td>\n",
       "      <td>15.750000</td>\n",
       "    </tr>\n",
       "    <tr>\n",
       "      <th>50%</th>\n",
       "      <td>13.00000</td>\n",
       "      <td>2.000000</td>\n",
       "      <td>2.000000</td>\n",
       "      <td>2.000000</td>\n",
       "      <td>2.000000</td>\n",
       "      <td>2.000000</td>\n",
       "      <td>2.000000</td>\n",
       "      <td>24.000000</td>\n",
       "      <td>20.000000</td>\n",
       "    </tr>\n",
       "    <tr>\n",
       "      <th>75%</th>\n",
       "      <td>14.00000</td>\n",
       "      <td>2.000000</td>\n",
       "      <td>2.000000</td>\n",
       "      <td>2.000000</td>\n",
       "      <td>2.000000</td>\n",
       "      <td>2.000000</td>\n",
       "      <td>2.000000</td>\n",
       "      <td>26.250000</td>\n",
       "      <td>23.250000</td>\n",
       "    </tr>\n",
       "    <tr>\n",
       "      <th>max</th>\n",
       "      <td>18.00000</td>\n",
       "      <td>2.000000</td>\n",
       "      <td>3.000000</td>\n",
       "      <td>2.000000</td>\n",
       "      <td>2.000000</td>\n",
       "      <td>2.000000</td>\n",
       "      <td>2.000000</td>\n",
       "      <td>29.000000</td>\n",
       "      <td>28.000000</td>\n",
       "    </tr>\n",
       "  </tbody>\n",
       "</table>\n",
       "</div>"
      ],
      "text/plain": [
       "           days     gender    afftype    melanch  inpatient   marriage  \\\n",
       "count  20.00000  20.000000  20.000000  20.000000  20.000000  20.000000   \n",
       "mean   13.10000   1.550000   1.800000   1.950000   1.750000   1.550000   \n",
       "std     2.33734   0.510418   0.523148   0.223607   0.444262   0.510418   \n",
       "min     7.00000   1.000000   1.000000   1.000000   1.000000   1.000000   \n",
       "25%    13.00000   1.000000   1.750000   2.000000   1.750000   1.000000   \n",
       "50%    13.00000   2.000000   2.000000   2.000000   2.000000   2.000000   \n",
       "75%    14.00000   2.000000   2.000000   2.000000   2.000000   2.000000   \n",
       "max    18.00000   2.000000   3.000000   2.000000   2.000000   2.000000   \n",
       "\n",
       "            work     madrs1     madrs2  \n",
       "count  20.000000  20.000000  20.000000  \n",
       "mean    1.900000  22.650000  19.650000  \n",
       "std     0.307794   5.060424   4.659738  \n",
       "min     1.000000  13.000000  11.000000  \n",
       "25%     2.000000  18.000000  15.750000  \n",
       "50%     2.000000  24.000000  20.000000  \n",
       "75%     2.000000  26.250000  23.250000  \n",
       "max     2.000000  29.000000  28.000000  "
      ]
     },
     "execution_count": 13,
     "metadata": {},
     "output_type": "execute_result"
    }
   ],
   "source": [
    "df_cleaned.describe()"
   ]
  },
  {
   "cell_type": "code",
   "execution_count": 14,
   "id": "dc86fbc7-7622-4db7-8490-5b1ca6f9f98e",
   "metadata": {
    "tags": []
   },
   "outputs": [
    {
     "data": {
      "text/plain": [
       "count    20.000000\n",
       "mean      1.550000\n",
       "std       0.510418\n",
       "min       1.000000\n",
       "25%       1.000000\n",
       "50%       2.000000\n",
       "75%       2.000000\n",
       "max       2.000000\n",
       "Name: gender, dtype: float64"
      ]
     },
     "execution_count": 14,
     "metadata": {},
     "output_type": "execute_result"
    }
   ],
   "source": [
    "df_cleaned['gender'].describe()"
   ]
  },
  {
   "cell_type": "code",
   "execution_count": 15,
   "id": "f0a10806-8484-4f48-b31b-5137aea22732",
   "metadata": {},
   "outputs": [
    {
     "data": {
      "text/plain": [
       "count        20\n",
       "unique        9\n",
       "top       35-39\n",
       "freq          4\n",
       "Name: age, dtype: object"
      ]
     },
     "execution_count": 15,
     "metadata": {},
     "output_type": "execute_result"
    }
   ],
   "source": [
    "df_cleaned['age'].describe()"
   ]
  },
  {
   "cell_type": "code",
   "execution_count": 16,
   "id": "93ba26c1-0b71-4a98-97b2-38a55b8c9633",
   "metadata": {},
   "outputs": [
    {
     "data": {
      "text/plain": [
       "count    20.000000\n",
       "mean      1.800000\n",
       "std       0.523148\n",
       "min       1.000000\n",
       "25%       1.750000\n",
       "50%       2.000000\n",
       "75%       2.000000\n",
       "max       3.000000\n",
       "Name: afftype, dtype: float64"
      ]
     },
     "execution_count": 16,
     "metadata": {},
     "output_type": "execute_result"
    }
   ],
   "source": [
    "df_cleaned['afftype'].describe()"
   ]
  },
  {
   "cell_type": "code",
   "execution_count": 17,
   "id": "9391248a-1733-44cd-ba6b-641bd0ecf719",
   "metadata": {},
   "outputs": [
    {
     "data": {
      "text/plain": [
       "count       20\n",
       "unique       4\n",
       "top       6-10\n",
       "freq        11\n",
       "Name: edu, dtype: object"
      ]
     },
     "execution_count": 17,
     "metadata": {},
     "output_type": "execute_result"
    }
   ],
   "source": [
    "df_cleaned['edu'].describe()"
   ]
  },
  {
   "cell_type": "code",
   "execution_count": 18,
   "id": "4288ce98-55ec-43b4-ab25-858ae31ac9e9",
   "metadata": {},
   "outputs": [
    {
     "data": {
      "text/plain": [
       "count    20.000000\n",
       "mean      1.550000\n",
       "std       0.510418\n",
       "min       1.000000\n",
       "25%       1.000000\n",
       "50%       2.000000\n",
       "75%       2.000000\n",
       "max       2.000000\n",
       "Name: marriage, dtype: float64"
      ]
     },
     "execution_count": 18,
     "metadata": {},
     "output_type": "execute_result"
    }
   ],
   "source": [
    "df_cleaned['marriage'].describe()"
   ]
  },
  {
   "cell_type": "markdown",
   "id": "2b552f9a-bdf9-46d2-ab43-5561b2568c99",
   "metadata": {},
   "source": [
    "## Compare two scenarios in your data using a PMF."
   ]
  },
  {
   "cell_type": "code",
   "execution_count": 19,
   "id": "71067c2f-2bce-4ea6-87ae-d7cb7dc5954c",
   "metadata": {},
   "outputs": [
    {
     "data": {
      "text/html": [
       "<div>\n",
       "<style scoped>\n",
       "    .dataframe tbody tr th:only-of-type {\n",
       "        vertical-align: middle;\n",
       "    }\n",
       "\n",
       "    .dataframe tbody tr th {\n",
       "        vertical-align: top;\n",
       "    }\n",
       "\n",
       "    .dataframe thead th {\n",
       "        text-align: right;\n",
       "    }\n",
       "</style>\n",
       "<table border=\"1\" class=\"dataframe\">\n",
       "  <thead>\n",
       "    <tr style=\"text-align: right;\">\n",
       "      <th></th>\n",
       "      <th>number</th>\n",
       "      <th>days</th>\n",
       "      <th>gender</th>\n",
       "      <th>age</th>\n",
       "      <th>afftype</th>\n",
       "      <th>melanch</th>\n",
       "      <th>inpatient</th>\n",
       "      <th>edu</th>\n",
       "      <th>marriage</th>\n",
       "      <th>work</th>\n",
       "      <th>madrs1</th>\n",
       "      <th>madrs2</th>\n",
       "    </tr>\n",
       "  </thead>\n",
       "  <tbody>\n",
       "    <tr>\n",
       "      <th>0</th>\n",
       "      <td>condition_1</td>\n",
       "      <td>11</td>\n",
       "      <td>2</td>\n",
       "      <td>35-39</td>\n",
       "      <td>2.0</td>\n",
       "      <td>2.0</td>\n",
       "      <td>2.0</td>\n",
       "      <td>6-10</td>\n",
       "      <td>1.0</td>\n",
       "      <td>2.0</td>\n",
       "      <td>19.0</td>\n",
       "      <td>19.0</td>\n",
       "    </tr>\n",
       "    <tr>\n",
       "      <th>2</th>\n",
       "      <td>condition_3</td>\n",
       "      <td>13</td>\n",
       "      <td>1</td>\n",
       "      <td>45-49</td>\n",
       "      <td>2.0</td>\n",
       "      <td>2.0</td>\n",
       "      <td>2.0</td>\n",
       "      <td>6-10</td>\n",
       "      <td>2.0</td>\n",
       "      <td>2.0</td>\n",
       "      <td>24.0</td>\n",
       "      <td>25.0</td>\n",
       "    </tr>\n",
       "    <tr>\n",
       "      <th>3</th>\n",
       "      <td>condition_4</td>\n",
       "      <td>13</td>\n",
       "      <td>2</td>\n",
       "      <td>25-29</td>\n",
       "      <td>2.0</td>\n",
       "      <td>2.0</td>\n",
       "      <td>2.0</td>\n",
       "      <td>11-15</td>\n",
       "      <td>1.0</td>\n",
       "      <td>1.0</td>\n",
       "      <td>20.0</td>\n",
       "      <td>16.0</td>\n",
       "    </tr>\n",
       "    <tr>\n",
       "      <th>4</th>\n",
       "      <td>condition_5</td>\n",
       "      <td>13</td>\n",
       "      <td>2</td>\n",
       "      <td>50-54</td>\n",
       "      <td>2.0</td>\n",
       "      <td>2.0</td>\n",
       "      <td>2.0</td>\n",
       "      <td>11-15</td>\n",
       "      <td>2.0</td>\n",
       "      <td>2.0</td>\n",
       "      <td>26.0</td>\n",
       "      <td>26.0</td>\n",
       "    </tr>\n",
       "    <tr>\n",
       "      <th>5</th>\n",
       "      <td>condition_6</td>\n",
       "      <td>7</td>\n",
       "      <td>1</td>\n",
       "      <td>35-39</td>\n",
       "      <td>2.0</td>\n",
       "      <td>2.0</td>\n",
       "      <td>2.0</td>\n",
       "      <td>6-10</td>\n",
       "      <td>1.0</td>\n",
       "      <td>2.0</td>\n",
       "      <td>18.0</td>\n",
       "      <td>15.0</td>\n",
       "    </tr>\n",
       "  </tbody>\n",
       "</table>\n",
       "</div>"
      ],
      "text/plain": [
       "        number  days  gender    age  afftype  melanch  inpatient    edu  \\\n",
       "0  condition_1    11       2  35-39      2.0      2.0        2.0   6-10   \n",
       "2  condition_3    13       1  45-49      2.0      2.0        2.0   6-10   \n",
       "3  condition_4    13       2  25-29      2.0      2.0        2.0  11-15   \n",
       "4  condition_5    13       2  50-54      2.0      2.0        2.0  11-15   \n",
       "5  condition_6     7       1  35-39      2.0      2.0        2.0   6-10   \n",
       "\n",
       "   marriage  work  madrs1  madrs2  \n",
       "0       1.0   2.0    19.0    19.0  \n",
       "2       2.0   2.0    24.0    25.0  \n",
       "3       1.0   1.0    20.0    16.0  \n",
       "4       2.0   2.0    26.0    26.0  \n",
       "5       1.0   2.0    18.0    15.0  "
      ]
     },
     "execution_count": 19,
     "metadata": {},
     "output_type": "execute_result"
    }
   ],
   "source": [
    "# get only people with Depression from afftype\n",
    "depression_filtered = df_cleaned[df_cleaned['afftype'] == 2]\n",
    "depression_filtered.head()"
   ]
  },
  {
   "cell_type": "code",
   "execution_count": 20,
   "id": "37928062-0b2c-4eeb-8230-48148dcd73eb",
   "metadata": {},
   "outputs": [
    {
     "data": {
      "text/plain": [
       "2.0    14\n",
       "Name: afftype, dtype: int64"
      ]
     },
     "execution_count": 20,
     "metadata": {},
     "output_type": "execute_result"
    }
   ],
   "source": [
    "# Get the unique values\n",
    "depression_filtered[\"afftype\"].value_counts().sort_index()"
   ]
  },
  {
   "cell_type": "code",
   "execution_count": 21,
   "id": "d19a4a36-f65b-4edb-a5ea-2559c32c8b27",
   "metadata": {},
   "outputs": [
    {
     "name": "stdout",
     "output_type": "stream",
     "text": [
      "25-29    1\n",
      "30-34    2\n",
      "35-39    3\n",
      "45-49    4\n",
      "50-54    2\n",
      "55-59    1\n",
      "65-69    1\n",
      "Name: age, dtype: int64\n"
     ]
    }
   ],
   "source": [
    "# Create df for all disorders and only depression compared to age\n",
    "disorder_others = df_cleaned[df_cleaned.afftype == 2]\n",
    "print(disorder_others['age'].value_counts().sort_index())"
   ]
  },
  {
   "cell_type": "code",
   "execution_count": 22,
   "id": "c55af9c6-bc9c-4726-ac7a-1cd1dc9dc254",
   "metadata": {},
   "outputs": [
    {
     "name": "stdout",
     "output_type": "stream",
     "text": [
      "35-39    1\n",
      "40-44    3\n",
      "50-54    1\n",
      "60-64    1\n",
      "Name: age, dtype: int64\n"
     ]
    }
   ],
   "source": [
    "disorder_depression = df_cleaned[df_cleaned.afftype != 2]\n",
    "print(disorder_depression['age'].value_counts().sort_index())"
   ]
  },
  {
   "cell_type": "code",
   "execution_count": 23,
   "id": "aeea8771-9994-4c95-b8e2-91a6ba22cb2a",
   "metadata": {},
   "outputs": [
    {
     "data": {
      "image/png": "[encoded data removed]",
      "text/plain": [
       "<Figure size 432x288 with 1 Axes>"
      ]
     },
     "metadata": {
      "needs_background": "light"
     },
     "output_type": "display_data"
    }
   ],
   "source": [
    "# Plot the PMF levels of depression\n",
    "disorder_depression_pmf = Pmf.from_seq(disorder_depression['age'])\n",
    "plt.xlabel(\"age\")\n",
    "plt.ylabel(\"PMF\")\n",
    "disorder_depression_pmf.bar()"
   ]
  },
  {
   "cell_type": "code",
   "execution_count": 24,
   "id": "ccf918ed-ac65-4ac4-adf6-5ba751f45508",
   "metadata": {},
   "outputs": [
    {
     "name": "stdout",
     "output_type": "stream",
     "text": [
      "Mean depression per marital status: 1.8333333333333335\n",
      "Mean disorders per marital status 1.4285714285714284\n"
     ]
    },
    {
     "data": {
      "image/png": "[encoded data removed]",
      "text/plain": [
       "<Figure size 648x504 with 1 Axes>"
      ]
     },
     "metadata": {
      "needs_background": "light"
     },
     "output_type": "display_data"
    }
   ],
   "source": [
    "# Compare the PMF of depression versus the other mental disorders\n",
    "disorder_depression_pmf = Pmf.from_seq(disorder_depression['marriage'])\n",
    "disorder_others_pmf = Pmf.from_seq(disorder_others['marriage'])\n",
    "\n",
    "fig, ax = plt.subplots(1, 1, figsize = (9, 7))\n",
    "\n",
    "depression = mpatches.Patch(color='orange', label='Depression per marrital status')\n",
    "others = mpatches.Patch(color='darkturquoise', label='Other disorders per marital status')\n",
    "ax.legend(handles=[depression, others ], )\n",
    "\n",
    "plt.xlabel(\"Depression per marital status\")\n",
    "plt.ylabel(\"PMF\")\n",
    "\n",
    "disorder_depression_pmf.bar(color=['orange'])\n",
    "disorder_others_pmf.bar(color=['darkturquoise'])\n",
    "\n",
    "\n",
    "print(f\"Mean depression per marital status: {disorder_depression_pmf.mean()}\")\n",
    "print(f\"Mean disorders per marital status {disorder_others_pmf.mean()}\")"
   ]
  },
  {
   "cell_type": "markdown",
   "id": "58d4bf03-5b66-4701-874d-ab9f690d81ce",
   "metadata": {},
   "source": [
    "## Create 1 CDF with one of your variables"
   ]
  },
  {
   "cell_type": "code",
   "execution_count": 25,
   "id": "7814d3e4-1162-4b40-9508-23dc5a0aa8ab",
   "metadata": {},
   "outputs": [
    {
     "data": {
      "text/html": [
       "<div>\n",
       "<style scoped>\n",
       "    .dataframe tbody tr th:only-of-type {\n",
       "        vertical-align: middle;\n",
       "    }\n",
       "\n",
       "    .dataframe tbody tr th {\n",
       "        vertical-align: top;\n",
       "    }\n",
       "\n",
       "    .dataframe thead th {\n",
       "        text-align: right;\n",
       "    }\n",
       "</style>\n",
       "<table border=\"1\" class=\"dataframe\">\n",
       "  <thead>\n",
       "    <tr style=\"text-align: right;\">\n",
       "      <th></th>\n",
       "      <th>probs</th>\n",
       "    </tr>\n",
       "  </thead>\n",
       "  <tbody>\n",
       "    <tr>\n",
       "      <th>25-29</th>\n",
       "      <td>0.071429</td>\n",
       "    </tr>\n",
       "    <tr>\n",
       "      <th>30-34</th>\n",
       "      <td>0.214286</td>\n",
       "    </tr>\n",
       "    <tr>\n",
       "      <th>35-39</th>\n",
       "      <td>0.428571</td>\n",
       "    </tr>\n",
       "  </tbody>\n",
       "</table>\n",
       "</div>"
      ],
      "text/plain": [
       "25-29    0.071429\n",
       "30-34    0.214286\n",
       "35-39    0.428571\n",
       "Name: , dtype: float64"
      ]
     },
     "execution_count": 25,
     "metadata": {},
     "output_type": "execute_result"
    }
   ],
   "source": [
    "age_cdf = Cdf.from_seq(depression_filtered['age'])\n",
    "age_cdf.head()"
   ]
  },
  {
   "cell_type": "markdown",
   "id": "d96aa352-ff02-4f30-9881-d672bd7497ba",
   "metadata": {},
   "source": [
    "The probability of having depression at ages 35-39 are higher than when younger, at a 42% probability."
   ]
  },
  {
   "cell_type": "markdown",
   "id": "598b0dd8-ba1d-43f2-8909-d262af39b30b",
   "metadata": {},
   "source": [
    "## Plot 1 analytical distribution and provide your analysis on how it applies to the dataset you have chosen."
   ]
  },
  {
   "cell_type": "code",
   "execution_count": 26,
   "id": "b0c549ac-0e01-4bca-81a4-6789a77a5796",
   "metadata": {},
   "outputs": [
    {
     "data": {
      "text/html": [
       "<div>\n",
       "<style scoped>\n",
       "    .dataframe tbody tr th:only-of-type {\n",
       "        vertical-align: middle;\n",
       "    }\n",
       "\n",
       "    .dataframe tbody tr th {\n",
       "        vertical-align: top;\n",
       "    }\n",
       "\n",
       "    .dataframe thead th {\n",
       "        text-align: right;\n",
       "    }\n",
       "</style>\n",
       "<table border=\"1\" class=\"dataframe\">\n",
       "  <thead>\n",
       "    <tr style=\"text-align: right;\">\n",
       "      <th></th>\n",
       "      <th>number</th>\n",
       "      <th>days</th>\n",
       "      <th>gender</th>\n",
       "      <th>age</th>\n",
       "      <th>afftype</th>\n",
       "      <th>melanch</th>\n",
       "      <th>inpatient</th>\n",
       "      <th>edu</th>\n",
       "      <th>marriage</th>\n",
       "      <th>work</th>\n",
       "      <th>madrs1</th>\n",
       "      <th>madrs2</th>\n",
       "    </tr>\n",
       "  </thead>\n",
       "  <tbody>\n",
       "    <tr>\n",
       "      <th>0</th>\n",
       "      <td>condition_1</td>\n",
       "      <td>11</td>\n",
       "      <td>2</td>\n",
       "      <td>35-39</td>\n",
       "      <td>2.0</td>\n",
       "      <td>2.0</td>\n",
       "      <td>2.0</td>\n",
       "      <td>6-10</td>\n",
       "      <td>1.0</td>\n",
       "      <td>2.0</td>\n",
       "      <td>19.0</td>\n",
       "      <td>19.0</td>\n",
       "    </tr>\n",
       "    <tr>\n",
       "      <th>1</th>\n",
       "      <td>condition_2</td>\n",
       "      <td>18</td>\n",
       "      <td>2</td>\n",
       "      <td>40-44</td>\n",
       "      <td>1.0</td>\n",
       "      <td>2.0</td>\n",
       "      <td>2.0</td>\n",
       "      <td>6-10</td>\n",
       "      <td>2.0</td>\n",
       "      <td>2.0</td>\n",
       "      <td>24.0</td>\n",
       "      <td>11.0</td>\n",
       "    </tr>\n",
       "    <tr>\n",
       "      <th>2</th>\n",
       "      <td>condition_3</td>\n",
       "      <td>13</td>\n",
       "      <td>1</td>\n",
       "      <td>45-49</td>\n",
       "      <td>2.0</td>\n",
       "      <td>2.0</td>\n",
       "      <td>2.0</td>\n",
       "      <td>6-10</td>\n",
       "      <td>2.0</td>\n",
       "      <td>2.0</td>\n",
       "      <td>24.0</td>\n",
       "      <td>25.0</td>\n",
       "    </tr>\n",
       "    <tr>\n",
       "      <th>3</th>\n",
       "      <td>condition_4</td>\n",
       "      <td>13</td>\n",
       "      <td>2</td>\n",
       "      <td>25-29</td>\n",
       "      <td>2.0</td>\n",
       "      <td>2.0</td>\n",
       "      <td>2.0</td>\n",
       "      <td>11-15</td>\n",
       "      <td>1.0</td>\n",
       "      <td>1.0</td>\n",
       "      <td>20.0</td>\n",
       "      <td>16.0</td>\n",
       "    </tr>\n",
       "    <tr>\n",
       "      <th>4</th>\n",
       "      <td>condition_5</td>\n",
       "      <td>13</td>\n",
       "      <td>2</td>\n",
       "      <td>50-54</td>\n",
       "      <td>2.0</td>\n",
       "      <td>2.0</td>\n",
       "      <td>2.0</td>\n",
       "      <td>11-15</td>\n",
       "      <td>2.0</td>\n",
       "      <td>2.0</td>\n",
       "      <td>26.0</td>\n",
       "      <td>26.0</td>\n",
       "    </tr>\n",
       "  </tbody>\n",
       "</table>\n",
       "</div>"
      ],
      "text/plain": [
       "        number  days  gender    age  afftype  melanch  inpatient    edu  \\\n",
       "0  condition_1    11       2  35-39      2.0      2.0        2.0   6-10   \n",
       "1  condition_2    18       2  40-44      1.0      2.0        2.0   6-10   \n",
       "2  condition_3    13       1  45-49      2.0      2.0        2.0   6-10   \n",
       "3  condition_4    13       2  25-29      2.0      2.0        2.0  11-15   \n",
       "4  condition_5    13       2  50-54      2.0      2.0        2.0  11-15   \n",
       "\n",
       "   marriage  work  madrs1  madrs2  \n",
       "0       1.0   2.0    19.0    19.0  \n",
       "1       2.0   2.0    24.0    11.0  \n",
       "2       2.0   2.0    24.0    25.0  \n",
       "3       1.0   1.0    20.0    16.0  \n",
       "4       2.0   2.0    26.0    26.0  "
      ]
     },
     "execution_count": 26,
     "metadata": {},
     "output_type": "execute_result"
    }
   ],
   "source": [
    "depression_filtered = df_cleaned[df_cleaned['age'] != 1]\n",
    "depression_filtered.head()"
   ]
  },
  {
   "cell_type": "code",
   "execution_count": 27,
   "id": "e0839456-2aa8-4fbb-8075-1e1553b696da",
   "metadata": {},
   "outputs": [
    {
     "data": {
      "image/png": "[encoded data removed]",
      "text/plain": [
       "<Figure size 432x288 with 1 Axes>"
      ]
     },
     "metadata": {
      "needs_background": "light"
     },
     "output_type": "display_data"
    }
   ],
   "source": [
    "thinkplot.PrePlot(3)\n",
    "\n",
    "mus = [1.0, 2.0, 3.0]\n",
    "sigmas = [0.5, 0.4, 0.3]\n",
    "for mu, sigma in zip(mus, sigmas):\n",
    "    xs, ps = thinkstats2.RenderNormalCdf(mu=mu, sigma=sigma, low=-1.0, high=4.0)\n",
    "    label = r\"$\\mu=%g$, $\\sigma=%g$\" % (mu, sigma)\n",
    "    thinkplot.Plot(xs, ps, label=label)\n",
    "\n",
    "thinkplot.Config(title=\"Normal CDF\", xlabel=\"x\", ylabel=\"CDF\", loc=\"upper left\")"
   ]
  },
  {
   "cell_type": "code",
   "execution_count": 28,
   "id": "f6551ec1-7f25-4b2c-945a-a011096ffe9f",
   "metadata": {},
   "outputs": [
    {
     "data": {
      "image/png": "[encoded data removed]",
      "text/plain": [
       "<Figure size 432x288 with 1 Axes>"
      ]
     },
     "metadata": {
      "needs_background": "light"
     },
     "output_type": "display_data"
    }
   ],
   "source": [
    "n = 1000\n",
    "thinkplot.PrePlot(3)\n",
    "\n",
    "mus = [0, 1, 5]\n",
    "sigmas = [1, 1, 2]\n",
    "\n",
    "for mu, sigma in zip(mus, sigmas):\n",
    "    sample = np.random.normal(mu, sigma, n)\n",
    "    xs, ys = thinkstats2.NormalProbability(sample)\n",
    "    label = \"$\\mu=%d$, $\\sigma=%d$\" % (mu, sigma)\n",
    "    thinkplot.Plot(xs, ys, label=label)\n",
    "\n",
    "thinkplot.Config(\n",
    "    title=\"Normal probability plot\",\n",
    "    xlabel=\"standard normal sample\",\n",
    "    ylabel=\"sample values\",\n",
    ")"
   ]
  },
  {
   "cell_type": "markdown",
   "id": "3eb7640f-60e1-4003-9ede-4e7f307218ba",
   "metadata": {},
   "source": [
    "## Create two scatter plots comparing two variables and provide your analysis on correlation and causation."
   ]
  },
  {
   "cell_type": "code",
   "execution_count": 29,
   "id": "ed22d611-b18b-4879-9786-a2dbad4ff5e5",
   "metadata": {},
   "outputs": [
    {
     "data": {
      "text/html": [
       "<div>\n",
       "<style scoped>\n",
       "    .dataframe tbody tr th:only-of-type {\n",
       "        vertical-align: middle;\n",
       "    }\n",
       "\n",
       "    .dataframe tbody tr th {\n",
       "        vertical-align: top;\n",
       "    }\n",
       "\n",
       "    .dataframe thead th {\n",
       "        text-align: right;\n",
       "    }\n",
       "</style>\n",
       "<table border=\"1\" class=\"dataframe\">\n",
       "  <thead>\n",
       "    <tr style=\"text-align: right;\">\n",
       "      <th></th>\n",
       "      <th>number</th>\n",
       "      <th>days</th>\n",
       "      <th>gender</th>\n",
       "      <th>age</th>\n",
       "      <th>afftype</th>\n",
       "      <th>melanch</th>\n",
       "      <th>inpatient</th>\n",
       "      <th>edu</th>\n",
       "      <th>marriage</th>\n",
       "      <th>work</th>\n",
       "      <th>madrs1</th>\n",
       "      <th>madrs2</th>\n",
       "    </tr>\n",
       "  </thead>\n",
       "  <tbody>\n",
       "    <tr>\n",
       "      <th>0</th>\n",
       "      <td>condition_1</td>\n",
       "      <td>11</td>\n",
       "      <td>2</td>\n",
       "      <td>35-39</td>\n",
       "      <td>2.0</td>\n",
       "      <td>2.0</td>\n",
       "      <td>2.0</td>\n",
       "      <td>6-10</td>\n",
       "      <td>1.0</td>\n",
       "      <td>2.0</td>\n",
       "      <td>19.0</td>\n",
       "      <td>19.0</td>\n",
       "    </tr>\n",
       "    <tr>\n",
       "      <th>1</th>\n",
       "      <td>condition_2</td>\n",
       "      <td>18</td>\n",
       "      <td>2</td>\n",
       "      <td>40-44</td>\n",
       "      <td>1.0</td>\n",
       "      <td>2.0</td>\n",
       "      <td>2.0</td>\n",
       "      <td>6-10</td>\n",
       "      <td>2.0</td>\n",
       "      <td>2.0</td>\n",
       "      <td>24.0</td>\n",
       "      <td>11.0</td>\n",
       "    </tr>\n",
       "    <tr>\n",
       "      <th>3</th>\n",
       "      <td>condition_4</td>\n",
       "      <td>13</td>\n",
       "      <td>2</td>\n",
       "      <td>25-29</td>\n",
       "      <td>2.0</td>\n",
       "      <td>2.0</td>\n",
       "      <td>2.0</td>\n",
       "      <td>11-15</td>\n",
       "      <td>1.0</td>\n",
       "      <td>1.0</td>\n",
       "      <td>20.0</td>\n",
       "      <td>16.0</td>\n",
       "    </tr>\n",
       "    <tr>\n",
       "      <th>4</th>\n",
       "      <td>condition_5</td>\n",
       "      <td>13</td>\n",
       "      <td>2</td>\n",
       "      <td>50-54</td>\n",
       "      <td>2.0</td>\n",
       "      <td>2.0</td>\n",
       "      <td>2.0</td>\n",
       "      <td>11-15</td>\n",
       "      <td>2.0</td>\n",
       "      <td>2.0</td>\n",
       "      <td>26.0</td>\n",
       "      <td>26.0</td>\n",
       "    </tr>\n",
       "    <tr>\n",
       "      <th>9</th>\n",
       "      <td>condition_10</td>\n",
       "      <td>9</td>\n",
       "      <td>2</td>\n",
       "      <td>45-49</td>\n",
       "      <td>2.0</td>\n",
       "      <td>2.0</td>\n",
       "      <td>2.0</td>\n",
       "      <td>6-10</td>\n",
       "      <td>1.0</td>\n",
       "      <td>2.0</td>\n",
       "      <td>28.0</td>\n",
       "      <td>21.0</td>\n",
       "    </tr>\n",
       "  </tbody>\n",
       "</table>\n",
       "</div>"
      ],
      "text/plain": [
       "         number  days  gender    age  afftype  melanch  inpatient    edu  \\\n",
       "0   condition_1    11       2  35-39      2.0      2.0        2.0   6-10   \n",
       "1   condition_2    18       2  40-44      1.0      2.0        2.0   6-10   \n",
       "3   condition_4    13       2  25-29      2.0      2.0        2.0  11-15   \n",
       "4   condition_5    13       2  50-54      2.0      2.0        2.0  11-15   \n",
       "9  condition_10     9       2  45-49      2.0      2.0        2.0   6-10   \n",
       "\n",
       "   marriage  work  madrs1  madrs2  \n",
       "0       1.0   2.0    19.0    19.0  \n",
       "1       2.0   2.0    24.0    11.0  \n",
       "3       1.0   1.0    20.0    16.0  \n",
       "4       2.0   2.0    26.0    26.0  \n",
       "9       1.0   2.0    28.0    21.0  "
      ]
     },
     "execution_count": 29,
     "metadata": {},
     "output_type": "execute_result"
    }
   ],
   "source": [
    "depression_filtered = df_cleaned[df_cleaned['gender'] > 1]\n",
    "depression_filtered.head()"
   ]
  },
  {
   "cell_type": "code",
   "execution_count": 30,
   "id": "deaede85-48ab-4c7c-9cb2-bc5d94c9b734",
   "metadata": {},
   "outputs": [
    {
     "data": {
      "text/plain": [
       "<AxesSubplot:xlabel='afftype', ylabel='gender'>"
      ]
     },
     "execution_count": 30,
     "metadata": {},
     "output_type": "execute_result"
    },
    {
     "data": {
      "image/png": "[encoded data removed]",
      "text/plain": [
       "<Figure size 432x288 with 1 Axes>"
      ]
     },
     "metadata": {
      "needs_background": "light"
     },
     "output_type": "display_data"
    }
   ],
   "source": [
    "depression_filtered.plot.scatter(x = 'afftype', y = 'gender')"
   ]
  },
  {
   "cell_type": "code",
   "execution_count": 31,
   "id": "a5a997e7-b352-4f40-b0ae-491e4019fe13",
   "metadata": {},
   "outputs": [
    {
     "data": {
      "text/plain": [
       "<AxesSubplot:xlabel='afftype', ylabel='work'>"
      ]
     },
     "execution_count": 31,
     "metadata": {},
     "output_type": "execute_result"
    },
    {
     "data": {
      "image/png": "[encoded data removed]",
      "text/plain": [
       "<Figure size 432x288 with 1 Axes>"
      ]
     },
     "metadata": {
      "needs_background": "light"
     },
     "output_type": "display_data"
    }
   ],
   "source": [
    "depression_filtered.plot.scatter(x = 'afftype', y = 'work')"
   ]
  },
  {
   "cell_type": "markdown",
   "id": "f4eb119a-ce69-47dc-9e89-94b6db9f69a5",
   "metadata": {},
   "source": [
    "## Conduct a test on your hypothesis"
   ]
  },
  {
   "cell_type": "code",
   "execution_count": 32,
   "id": "0f68ef85-5cc6-46dc-81d6-c7e1b34c4950",
   "metadata": {},
   "outputs": [
    {
     "data": {
      "text/plain": [
       "count         6\n",
       "unique        4\n",
       "top       40-44\n",
       "freq          3\n",
       "Name: age, dtype: object"
      ]
     },
     "execution_count": 32,
     "metadata": {},
     "output_type": "execute_result"
    }
   ],
   "source": [
    "disorder_depression['age'].describe()"
   ]
  },
  {
   "cell_type": "code",
   "execution_count": 33,
   "id": "d94087ec-288b-4c93-87b4-7276ae892c32",
   "metadata": {},
   "outputs": [
    {
     "data": {
      "text/plain": [
       "count        14\n",
       "unique        7\n",
       "top       45-49\n",
       "freq          4\n",
       "Name: age, dtype: object"
      ]
     },
     "execution_count": 33,
     "metadata": {},
     "output_type": "execute_result"
    }
   ],
   "source": [
    "disorder_others['age'].describe()"
   ]
  },
  {
   "cell_type": "code",
   "execution_count": 34,
   "id": "e6def569-c797-4bf8-8f95-be6646bf13de",
   "metadata": {},
   "outputs": [],
   "source": [
    "class HypothesisTest(object):\n",
    "\n",
    "    def __init__(self, data):\n",
    "        self.data = data\n",
    "        self.MakeModel()\n",
    "        self.actual = self.TestStatistic(data)\n",
    "\n",
    "    def PValue(self, iters=1000):\n",
    "        self.test_stats = [self.TestStatistic(self.RunModel()) \n",
    "                           for _ in range(iters)]\n",
    "\n",
    "        count = sum(1 for x in self.test_stats if x >= self.actual)\n",
    "        return count / iters\n",
    "\n",
    "    def TestStatistic(self, data):\n",
    "        raise UnimplementedMethodException()\n",
    "\n",
    "    def MakeModel(self):\n",
    "        pass\n",
    "\n",
    "    def RunModel(self):\n",
    "        raise UnimplementedMethodException()"
   ]
  },
  {
   "cell_type": "code",
   "execution_count": 35,
   "id": "3b02bc2b-7b06-400e-b1b3-4260f43d3db7",
   "metadata": {},
   "outputs": [],
   "source": [
    "class Depressiontest(HypothesisTest):\n",
    "\n",
    "    def TestStatistic(self, data):\n",
    "        depression, age = data\n",
    "        test_stat = abs(depression - age)\n",
    "        return test_stat\n",
    "\n",
    "    def RunModel(self):\n",
    "        depression, age = self.data\n",
    "        n = depression + age\n",
    "        sample = [random.choice('HT') for _ in range(n)]\n",
    "        hist = thinkstats2.Hist(sample)\n",
    "        data = hist['H'], hist['T']\n",
    "        return data"
   ]
  },
  {
   "cell_type": "code",
   "execution_count": 36,
   "id": "a6016fc8-8726-4ca1-94fd-e3edb2c3277d",
   "metadata": {},
   "outputs": [
    {
     "data": {
      "text/plain": [
       "0.062"
      ]
     },
     "execution_count": 36,
     "metadata": {},
     "output_type": "execute_result"
    }
   ],
   "source": [
    "ct = Depressiontest((140, 110))\n",
    "pvalue = ct.PValue()\n",
    "pvalue"
   ]
  },
  {
   "cell_type": "markdown",
   "id": "978823dc-9da7-43e2-90ec-0aa2e18e309b",
   "metadata": {},
   "source": [
    "## Conduct a regression analysis"
   ]
  },
  {
   "cell_type": "code",
   "execution_count": 37,
   "id": "fd11596f-b960-4f32-8db8-122eeefb47c1",
   "metadata": {},
   "outputs": [
    {
     "data": {
      "text/html": [
       "<table class=\"simpletable\">\n",
       "<caption>OLS Regression Results</caption>\n",
       "<tr>\n",
       "  <th>Dep. Variable:</th>         <td>afftype</td>     <th>  R-squared:         </th> <td>   0.215</td>\n",
       "</tr>\n",
       "<tr>\n",
       "  <th>Model:</th>                   <td>OLS</td>       <th>  Adj. R-squared:    </th> <td>  -0.356</td>\n",
       "</tr>\n",
       "<tr>\n",
       "  <th>Method:</th>             <td>Least Squares</td>  <th>  F-statistic:       </th> <td>  0.3760</td>\n",
       "</tr>\n",
       "<tr>\n",
       "  <th>Date:</th>             <td>Wed, 10 Aug 2022</td> <th>  Prob (F-statistic):</th>  <td> 0.912</td> \n",
       "</tr>\n",
       "<tr>\n",
       "  <th>Time:</th>                 <td>17:27:24</td>     <th>  Log-Likelihood:    </th> <td> -12.491</td>\n",
       "</tr>\n",
       "<tr>\n",
       "  <th>No. Observations:</th>      <td>    20</td>      <th>  AIC:               </th> <td>   42.98</td>\n",
       "</tr>\n",
       "<tr>\n",
       "  <th>Df Residuals:</th>          <td>    11</td>      <th>  BIC:               </th> <td>   51.94</td>\n",
       "</tr>\n",
       "<tr>\n",
       "  <th>Df Model:</th>              <td>     8</td>      <th>                     </th>     <td> </td>   \n",
       "</tr>\n",
       "<tr>\n",
       "  <th>Covariance Type:</th>      <td>nonrobust</td>    <th>                     </th>     <td> </td>   \n",
       "</tr>\n",
       "</table>\n",
       "<table class=\"simpletable\">\n",
       "<tr>\n",
       "        <td></td>          <th>coef</th>     <th>std err</th>      <th>t</th>      <th>P>|t|</th>  <th>[0.025</th>    <th>0.975]</th>  \n",
       "</tr>\n",
       "<tr>\n",
       "  <th>Intercept</th>    <td>    2.0000</td> <td>    0.609</td> <td>    3.283</td> <td> 0.007</td> <td>    0.659</td> <td>    3.341</td>\n",
       "</tr>\n",
       "<tr>\n",
       "  <th>age[T.30-34]</th> <td>-4.441e-16</td> <td>    0.746</td> <td>-5.95e-16</td> <td> 1.000</td> <td>   -1.642</td> <td>    1.642</td>\n",
       "</tr>\n",
       "<tr>\n",
       "  <th>age[T.35-39]</th> <td>   -0.2500</td> <td>    0.681</td> <td>   -0.367</td> <td> 0.721</td> <td>   -1.749</td> <td>    1.249</td>\n",
       "</tr>\n",
       "<tr>\n",
       "  <th>age[T.40-44]</th> <td>   -0.3333</td> <td>    0.704</td> <td>   -0.474</td> <td> 0.645</td> <td>   -1.882</td> <td>    1.215</td>\n",
       "</tr>\n",
       "<tr>\n",
       "  <th>age[T.45-49]</th> <td>-4.441e-16</td> <td>    0.681</td> <td>-6.52e-16</td> <td> 1.000</td> <td>   -1.499</td> <td>    1.499</td>\n",
       "</tr>\n",
       "<tr>\n",
       "  <th>age[T.50-54]</th> <td>   -0.3333</td> <td>    0.704</td> <td>   -0.474</td> <td> 0.645</td> <td>   -1.882</td> <td>    1.215</td>\n",
       "</tr>\n",
       "<tr>\n",
       "  <th>age[T.55-59]</th> <td>-5.892e-16</td> <td>    0.862</td> <td>-6.84e-16</td> <td> 1.000</td> <td>   -1.896</td> <td>    1.896</td>\n",
       "</tr>\n",
       "<tr>\n",
       "  <th>age[T.60-64]</th> <td>   -1.0000</td> <td>    0.862</td> <td>   -1.161</td> <td> 0.270</td> <td>   -2.896</td> <td>    0.896</td>\n",
       "</tr>\n",
       "<tr>\n",
       "  <th>age[T.65-69]</th> <td>-4.479e-16</td> <td>    0.862</td> <td> -5.2e-16</td> <td> 1.000</td> <td>   -1.896</td> <td>    1.896</td>\n",
       "</tr>\n",
       "</table>\n",
       "<table class=\"simpletable\">\n",
       "<tr>\n",
       "  <th>Omnibus:</th>       <td> 6.461</td> <th>  Durbin-Watson:     </th> <td>   1.998</td>\n",
       "</tr>\n",
       "<tr>\n",
       "  <th>Prob(Omnibus):</th> <td> 0.040</td> <th>  Jarque-Bera (JB):  </th> <td>   4.453</td>\n",
       "</tr>\n",
       "<tr>\n",
       "  <th>Skew:</th>          <td> 0.640</td> <th>  Prob(JB):          </th> <td>   0.108</td>\n",
       "</tr>\n",
       "<tr>\n",
       "  <th>Kurtosis:</th>      <td> 4.925</td> <th>  Cond. No.          </th> <td>    14.8</td>\n",
       "</tr>\n",
       "</table><br/><br/>Notes:<br/>[1] Standard Errors assume that the covariance matrix of the errors is correctly specified."
      ],
      "text/plain": [
       "<class 'statsmodels.iolib.summary.Summary'>\n",
       "\"\"\"\n",
       "                            OLS Regression Results                            \n",
       "==============================================================================\n",
       "Dep. Variable:                afftype   R-squared:                       0.215\n",
       "Model:                            OLS   Adj. R-squared:                 -0.356\n",
       "Method:                 Least Squares   F-statistic:                    0.3760\n",
       "Date:                Wed, 10 Aug 2022   Prob (F-statistic):              0.912\n",
       "Time:                        17:27:24   Log-Likelihood:                -12.491\n",
       "No. Observations:                  20   AIC:                             42.98\n",
       "Df Residuals:                      11   BIC:                             51.94\n",
       "Df Model:                           8                                         \n",
       "Covariance Type:            nonrobust                                         \n",
       "================================================================================\n",
       "                   coef    std err          t      P>|t|      [0.025      0.975]\n",
       "--------------------------------------------------------------------------------\n",
       "Intercept        2.0000      0.609      3.283      0.007       0.659       3.341\n",
       "age[T.30-34] -4.441e-16      0.746  -5.95e-16      1.000      -1.642       1.642\n",
       "age[T.35-39]    -0.2500      0.681     -0.367      0.721      -1.749       1.249\n",
       "age[T.40-44]    -0.3333      0.704     -0.474      0.645      -1.882       1.215\n",
       "age[T.45-49] -4.441e-16      0.681  -6.52e-16      1.000      -1.499       1.499\n",
       "age[T.50-54]    -0.3333      0.704     -0.474      0.645      -1.882       1.215\n",
       "age[T.55-59] -5.892e-16      0.862  -6.84e-16      1.000      -1.896       1.896\n",
       "age[T.60-64]    -1.0000      0.862     -1.161      0.270      -2.896       0.896\n",
       "age[T.65-69] -4.479e-16      0.862   -5.2e-16      1.000      -1.896       1.896\n",
       "==============================================================================\n",
       "Omnibus:                        6.461   Durbin-Watson:                   1.998\n",
       "Prob(Omnibus):                  0.040   Jarque-Bera (JB):                4.453\n",
       "Skew:                           0.640   Prob(JB):                        0.108\n",
       "Kurtosis:                       4.925   Cond. No.                         14.8\n",
       "==============================================================================\n",
       "\n",
       "Notes:\n",
       "[1] Standard Errors assume that the covariance matrix of the errors is correctly specified.\n",
       "\"\"\""
      ]
     },
     "execution_count": 37,
     "metadata": {},
     "output_type": "execute_result"
    }
   ],
   "source": [
    "disorder_age = smf.ols('afftype ~ age', data = df_cleaned).fit()\n",
    "disorder_age.summary()"
   ]
  },
  {
   "cell_type": "code",
   "execution_count": 38,
   "id": "af297544-7596-417f-b7b9-68ced0bf5505",
   "metadata": {},
   "outputs": [
    {
     "data": {
      "text/html": [
       "<table class=\"simpletable\">\n",
       "<caption>OLS Regression Results</caption>\n",
       "<tr>\n",
       "  <th>Dep. Variable:</th>         <td>afftype</td>     <th>  R-squared:         </th> <td>   0.002</td>\n",
       "</tr>\n",
       "<tr>\n",
       "  <th>Model:</th>                   <td>OLS</td>       <th>  Adj. R-squared:    </th> <td>  -0.054</td>\n",
       "</tr>\n",
       "<tr>\n",
       "  <th>Method:</th>             <td>Least Squares</td>  <th>  F-statistic:       </th> <td> 0.02802</td>\n",
       "</tr>\n",
       "<tr>\n",
       "  <th>Date:</th>             <td>Wed, 10 Aug 2022</td> <th>  Prob (F-statistic):</th>  <td> 0.869</td> \n",
       "</tr>\n",
       "<tr>\n",
       "  <th>Time:</th>                 <td>17:27:25</td>     <th>  Log-Likelihood:    </th> <td> -14.892</td>\n",
       "</tr>\n",
       "<tr>\n",
       "  <th>No. Observations:</th>      <td>    20</td>      <th>  AIC:               </th> <td>   33.78</td>\n",
       "</tr>\n",
       "<tr>\n",
       "  <th>Df Residuals:</th>          <td>    18</td>      <th>  BIC:               </th> <td>   35.78</td>\n",
       "</tr>\n",
       "<tr>\n",
       "  <th>Df Model:</th>              <td>     1</td>      <th>                     </th>     <td> </td>   \n",
       "</tr>\n",
       "<tr>\n",
       "  <th>Covariance Type:</th>      <td>nonrobust</td>    <th>                     </th>     <td> </td>   \n",
       "</tr>\n",
       "</table>\n",
       "<table class=\"simpletable\">\n",
       "<tr>\n",
       "      <td></td>         <th>coef</th>     <th>std err</th>      <th>t</th>      <th>P>|t|</th>  <th>[0.025</th>    <th>0.975]</th>  \n",
       "</tr>\n",
       "<tr>\n",
       "  <th>Intercept</th> <td>    1.7374</td> <td>    0.393</td> <td>    4.421</td> <td> 0.000</td> <td>    0.912</td> <td>    2.563</td>\n",
       "</tr>\n",
       "<tr>\n",
       "  <th>gender</th>    <td>    0.0404</td> <td>    0.241</td> <td>    0.167</td> <td> 0.869</td> <td>   -0.467</td> <td>    0.548</td>\n",
       "</tr>\n",
       "</table>\n",
       "<table class=\"simpletable\">\n",
       "<tr>\n",
       "  <th>Omnibus:</th>       <td> 0.848</td> <th>  Durbin-Watson:     </th> <td>   1.915</td>\n",
       "</tr>\n",
       "<tr>\n",
       "  <th>Prob(Omnibus):</th> <td> 0.654</td> <th>  Jarque-Bera (JB):  </th> <td>   0.316</td>\n",
       "</tr>\n",
       "<tr>\n",
       "  <th>Skew:</th>          <td>-0.308</td> <th>  Prob(JB):          </th> <td>   0.854</td>\n",
       "</tr>\n",
       "<tr>\n",
       "  <th>Kurtosis:</th>      <td> 3.006</td> <th>  Cond. No.          </th> <td>    7.20</td>\n",
       "</tr>\n",
       "</table><br/><br/>Notes:<br/>[1] Standard Errors assume that the covariance matrix of the errors is correctly specified."
      ],
      "text/plain": [
       "<class 'statsmodels.iolib.summary.Summary'>\n",
       "\"\"\"\n",
       "                            OLS Regression Results                            \n",
       "==============================================================================\n",
       "Dep. Variable:                afftype   R-squared:                       0.002\n",
       "Model:                            OLS   Adj. R-squared:                 -0.054\n",
       "Method:                 Least Squares   F-statistic:                   0.02802\n",
       "Date:                Wed, 10 Aug 2022   Prob (F-statistic):              0.869\n",
       "Time:                        17:27:25   Log-Likelihood:                -14.892\n",
       "No. Observations:                  20   AIC:                             33.78\n",
       "Df Residuals:                      18   BIC:                             35.78\n",
       "Df Model:                           1                                         \n",
       "Covariance Type:            nonrobust                                         \n",
       "==============================================================================\n",
       "                 coef    std err          t      P>|t|      [0.025      0.975]\n",
       "------------------------------------------------------------------------------\n",
       "Intercept      1.7374      0.393      4.421      0.000       0.912       2.563\n",
       "gender         0.0404      0.241      0.167      0.869      -0.467       0.548\n",
       "==============================================================================\n",
       "Omnibus:                        0.848   Durbin-Watson:                   1.915\n",
       "Prob(Omnibus):                  0.654   Jarque-Bera (JB):                0.316\n",
       "Skew:                          -0.308   Prob(JB):                        0.854\n",
       "Kurtosis:                       3.006   Cond. No.                         7.20\n",
       "==============================================================================\n",
       "\n",
       "Notes:\n",
       "[1] Standard Errors assume that the covariance matrix of the errors is correctly specified.\n",
       "\"\"\""
      ]
     },
     "execution_count": 38,
     "metadata": {},
     "output_type": "execute_result"
    }
   ],
   "source": [
    "results_disorders = smf.ols('afftype ~ gender', \n",
    "                  data = df_cleaned).fit()\n",
    "results_disorders.summary()"
   ]
  },
  {
   "cell_type": "markdown",
   "id": "81e452b8-32a4-4de5-b7e2-e11238c1d318",
   "metadata": {},
   "source": [
    "References\n",
    "\n",
    "\n",
    "https://www.kaggle.com/datasets/arashnic/the-depression-dataset\n",
    "https://www.kaggle.com/code/docxian/depression-and-motor-activity/notebook\n"
   ]
  },
  {
   "cell_type": "code",
   "execution_count": null,
   "id": "b6ae8b6d-c32a-42ee-9e67-4cdc3c82374c",
   "metadata": {},
   "outputs": [],
   "source": []
  }
 ],
 "metadata": {
  "kernelspec": {
   "display_name": "Python 3 (ipykernel)",
   "language": "python",
   "name": "python3"
  },
  "language_info": {
   "codemirror_mode": {
    "name": "ipython",
    "version": 3
   },
   "file_extension": ".py",
   "mimetype": "text/x-python",
   "name": "python",
   "nbconvert_exporter": "python",
   "pygments_lexer": "ipython3",
   "version": "3.9.12"
  }
 },
 "nbformat": 4,
 "nbformat_minor": 5
}
