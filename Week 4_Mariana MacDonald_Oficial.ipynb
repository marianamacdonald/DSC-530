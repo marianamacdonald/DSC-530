{
 "cells": [
  {
   "cell_type": "markdown",
   "id": "20d2b7cc-f214-4231-bb9c-5a433f7e82e1",
   "metadata": {},
   "source": [
    "Chapter 3\n",
    "Week 4\n",
    "Mariana MacDonald"
   ]
  },
  {
   "cell_type": "code",
   "execution_count": 6,
   "id": "f8bdb1d5-e4ed-45c5-9a65-bc681437597d",
   "metadata": {},
   "outputs": [],
   "source": [
    "from os.path import basename, exists\n",
    "\n",
    "\n",
    "def download(url):\n",
    "    filename = basename(url)\n",
    "    if not exists(filename):\n",
    "        from urllib.request import urlretrieve\n",
    "\n",
    "        local, _ = urlretrieve(url, filename)\n",
    "        print(\"Downloaded \" + local)\n",
    "\n",
    "\n",
    "download(\"https://github.com/AllenDowney/ThinkStats2/raw/master/code/thinkstats2.py\")\n",
    "download(\"https://github.com/AllenDowney/ThinkStats2/raw/master/code/thinkplot.py\")\n",
    "download(\"https://github.com/AllenDowney/ThinkStats2/raw/master/code/nsfg.py\")\n",
    "download(\"https://github.com/AllenDowney/ThinkStats2/raw/master/code/first.py\")\n",
    "\n",
    "\n",
    "download(\"https://github.com/AllenDowney/ThinkStats2/raw/master/code/2002FemPreg.dct\")\n",
    "download(\n",
    "    \"https://github.com/AllenDowney/ThinkStats2/raw/master/code/2002FemPreg.dat.gz\"\n",
    ")"
   ]
  },
  {
   "cell_type": "code",
   "execution_count": 7,
   "id": "5b98bb5e-eb03-4e69-b9f1-283a2f25e76d",
   "metadata": {},
   "outputs": [],
   "source": [
    "import numpy as np"
   ]
  },
  {
   "cell_type": "code",
   "execution_count": 8,
   "id": "fc97d87e-9caa-43d1-86d2-8e9f6f1dd166",
   "metadata": {},
   "outputs": [],
   "source": [
    "import nsfg\n",
    "import first\n",
    "import thinkstats2\n",
    "import thinkplot"
   ]
  },
  {
   "cell_type": "markdown",
   "id": "b84579e1-d5a1-412c-9ac9-7b0627bb269c",
   "metadata": {},
   "source": [
    "**Exercise:** Something like the class size paradox appears if you survey children and ask how many children are in their family. Families with many children are more likely to appear in your sample, and families with no children have no chance to be in the sample.\n",
    "\n",
    "Use the NSFG respondent variable `numkdhh` to construct the actual distribution for the number of children under 18 in the respondents' households.\n",
    "\n",
    "Now compute the biased distribution we would see if we surveyed the children and asked them how many children under 18 (including themselves) are in their household.\n",
    "\n",
    "Plot the actual and biased distributions, and compute their means."
   ]
  },
  {
   "cell_type": "code",
   "execution_count": 11,
   "id": "d0008bc7-e295-4464-89ba-cbbc301cec9e",
   "metadata": {},
   "outputs": [],
   "source": [
    "download(\"https://github.com/AllenDowney/ThinkStats2/raw/master/code/2002FemResp.dct\")\n",
    "download(\"https://github.com/AllenDowney/ThinkStats2/raw/master/code/2002FemResp.dat.gz\")"
   ]
  },
  {
   "cell_type": "code",
   "execution_count": 12,
   "id": "0db65896-00b5-4b07-8dd8-42d4f1aed007",
   "metadata": {},
   "outputs": [],
   "source": [
    "resp = nsfg.ReadFemResp()"
   ]
  },
  {
   "cell_type": "code",
   "execution_count": 13,
   "id": "a493f4c6-9f6a-46f3-a7fe-545e92b78007",
   "metadata": {},
   "outputs": [],
   "source": [
    "# using the NSFG variable numkdhh from resp to construct pmf\n",
    "pmf = thinkstats2.Pmf(resp.numkdhh, label=\"numkdhh\")"
   ]
  },
  {
   "cell_type": "code",
   "execution_count": 14,
   "id": "00b9139f-cdb8-41e1-8f48-cf6d1e839572",
   "metadata": {},
   "outputs": [
    {
     "data": {
      "image/png": "[encoded data removed]",
      "text/plain": [
       "<Figure size 432x288 with 1 Axes>"
      ]
     },
     "metadata": {
      "needs_background": "light"
     },
     "output_type": "display_data"
    }
   ],
   "source": [
    "#plotting the pmf\n",
    "thinkplot.Pmf(pmf)\n",
    "thinkplot.Config(xlabel=\"Number of children\", ylabel=\"PMF\")"
   ]
  },
  {
   "cell_type": "code",
   "execution_count": 16,
   "id": "c882322e-fabc-4aea-920c-45ad1c4d86ca",
   "metadata": {},
   "outputs": [],
   "source": [
    "def BiasPmf(pmf, label):\n",
    "    new_pmf = pmf.Copy(label=label)\n",
    "\n",
    "    for x, p in pmf.Items():\n",
    "        new_pmf.Mult(x, x)\n",
    "\n",
    "    new_pmf.Normalize()\n",
    "    return new_pmf"
   ]
  },
  {
   "cell_type": "code",
   "execution_count": 17,
   "id": "9c383d41-8df0-4854-9ad7-5ee29f6527db",
   "metadata": {},
   "outputs": [],
   "source": [
    "#constructing biased distribution\n",
    "biased = BiasPmf(pmf, label=\"biased\")"
   ]
  },
  {
   "cell_type": "code",
   "execution_count": 18,
   "id": "58b5b060-0336-4bab-9dcb-4f88a3040d92",
   "metadata": {},
   "outputs": [
    {
     "data": {
      "image/png": "[encoded data removed]",
      "text/plain": [
       "<Figure size 432x288 with 1 Axes>"
      ]
     },
     "metadata": {
      "needs_background": "light"
     },
     "output_type": "display_data"
    }
   ],
   "source": [
    "#plotting the biased distribution\n",
    "thinkplot.PrePlot(2)\n",
    "thinkplot.Pmfs([pmf, biased])\n",
    "thinkplot.Config(xlabel=\"Number of children\", ylabel=\"PMF\")"
   ]
  },
  {
   "cell_type": "code",
   "execution_count": 19,
   "id": "c5058e12-5c5f-4b2a-bb47-6af516d6ac60",
   "metadata": {},
   "outputs": [
    {
     "data": {
      "text/plain": [
       "1.024205155043831"
      ]
     },
     "execution_count": 19,
     "metadata": {},
     "output_type": "execute_result"
    }
   ],
   "source": [
    "#looking for the pmf mean\n",
    "pmf.Mean()"
   ]
  },
  {
   "cell_type": "code",
   "execution_count": 20,
   "id": "9ed7a796-e655-4eeb-846c-bb7aea903367",
   "metadata": {},
   "outputs": [
    {
     "data": {
      "text/plain": [
       "2.403679100664282"
      ]
     },
     "execution_count": 20,
     "metadata": {},
     "output_type": "execute_result"
    }
   ],
   "source": [
    "#looking for the biased mean\n",
    "biased.Mean()"
   ]
  },
  {
   "cell_type": "code",
   "execution_count": 22,
   "id": "51e3de7f-f133-4f35-adb3-6471f1a74b64",
   "metadata": {},
   "outputs": [
    {
     "name": "stdout",
     "output_type": "stream",
     "text": [
      "Actual mean 1.024205155043831\n",
      "Observed mean 2.403679100664282\n"
     ]
    }
   ],
   "source": [
    "print(\"Actual mean\", pmf.Mean())\n",
    "print(\"Observed mean\", biased.Mean())"
   ]
  },
  {
   "cell_type": "code",
   "execution_count": null,
   "id": "bd7dc9dc-3f97-4367-9219-fdfe1c6d0291",
   "metadata": {},
   "outputs": [],
   "source": []
  },
  {
   "cell_type": "markdown",
   "id": "49cbbacb-7e9b-49de-9c3e-f57dc65aae21",
   "metadata": {},
   "source": [
    "Exercise 3.2"
   ]
  },
  {
   "cell_type": "markdown",
   "id": "5ced42fe-d191-47f3-a6b3-ca83d985469f",
   "metadata": {},
   "source": [
    "Write functions called PmfMean and PmfVar that take a Pmf object and compute the mean and variance. To test these methods, check that they are consistent with the methods Mean and Var provided by Pmf."
   ]
  },
  {
   "cell_type": "code",
   "execution_count": 115,
   "id": "1d2ea110-f8df-4262-89bf-0771f6dc881f",
   "metadata": {},
   "outputs": [],
   "source": [
    "#First I defined the variable pmf\n",
    "pmf = thinkstats2.Pmf(resp.numkdhh)"
   ]
  },
  {
   "cell_type": "code",
   "execution_count": 116,
   "id": "4519643b-454e-4163-8ea4-11f7144a2b91",
   "metadata": {},
   "outputs": [
    {
     "data": {
      "text/plain": [
       "1.024205155043831"
      ]
     },
     "execution_count": 116,
     "metadata": {},
     "output_type": "execute_result"
    }
   ],
   "source": [
    "#Found the mean based on the pmf method (I call it method_one below)\n",
    "pmf.Mean()"
   ]
  },
  {
   "cell_type": "code",
   "execution_count": 117,
   "id": "7db1ee89-faf5-4762-a1f8-38d58fe8ebdf",
   "metadata": {},
   "outputs": [
    {
     "data": {
      "text/plain": [
       "1.4128643263531195"
      ]
     },
     "execution_count": 117,
     "metadata": {},
     "output_type": "execute_result"
    }
   ],
   "source": [
    "#Found the variance on the pmf method (I call it method_one below0\n",
    "pmf.Var()"
   ]
  },
  {
   "cell_type": "code",
   "execution_count": 118,
   "id": "e54a24f6-e1cc-411d-be33-811baef638a5",
   "metadata": {},
   "outputs": [],
   "source": [
    "#Used the function provided in the chapter taking pmf as the object \n",
    "#to find the mean\n",
    "def PmfMean(pmf):\n",
    "    return sum(p * x for x, p in pmf.Items())"
   ]
  },
  {
   "cell_type": "code",
   "execution_count": 119,
   "id": "f3aee321-7d40-4057-9038-069eb760a447",
   "metadata": {},
   "outputs": [
    {
     "data": {
      "text/plain": [
       "1.024205155043831"
      ]
     },
     "execution_count": 119,
     "metadata": {},
     "output_type": "execute_result"
    }
   ],
   "source": [
    "#verified the mean (I call it as method_two below)\n",
    "PmfMean(pmf)"
   ]
  },
  {
   "cell_type": "code",
   "execution_count": 120,
   "id": "896a1293-7419-4252-aee7-ecf00a772800",
   "metadata": {},
   "outputs": [],
   "source": [
    "#Used the function provided in the chapter taking pmf as the object\n",
    "#to find the var\n",
    "\n",
    "def PmfVar(pmf, mu=None):\n",
    "    if mu is None:\n",
    "        mu = PmfMean(pmf)\n",
    "\n",
    "    return sum(p * (x - mu) ** 2 for x, p in pmf.Items())"
   ]
  },
  {
   "cell_type": "code",
   "execution_count": 121,
   "id": "fa5a7a84-d5e9-4e19-bc8a-54543ada0bfc",
   "metadata": {},
   "outputs": [
    {
     "data": {
      "text/plain": [
       "1.4128643263531195"
      ]
     },
     "execution_count": 121,
     "metadata": {},
     "output_type": "execute_result"
    }
   ],
   "source": [
    "#verified the variance (I call it as method_two below)\n",
    "PmfVar(pmf)"
   ]
  },
  {
   "cell_type": "code",
   "execution_count": 122,
   "id": "6ab23041-6cf7-433a-abb4-7cbaf3454383",
   "metadata": {},
   "outputs": [
    {
     "name": "stdout",
     "output_type": "stream",
     "text": [
      "Method one equals method two\n"
     ]
    }
   ],
   "source": [
    "#here I used a if/else function to check if the methods were equal\n",
    "\n",
    "method_one = pmf.Mean()\n",
    "method_two = PmfMean(pmf)\n",
    "\n",
    "if method_one == method_two:\n",
    "    print(\"Method one equals method two\")\n",
    "else:\n",
    "    print(\"Method one does NOT equals method two\")"
   ]
  },
  {
   "cell_type": "code",
   "execution_count": 123,
   "id": "9bcdd201-e80f-4695-abfe-5aa50b2129e6",
   "metadata": {},
   "outputs": [
    {
     "name": "stdout",
     "output_type": "stream",
     "text": [
      "Method one equals method two\n"
     ]
    }
   ],
   "source": [
    "#here I used a if/else function to check if the methods were equal\n",
    "\n",
    "method_one = pmf.Var()\n",
    "method_two = PmfVar(pmf)\n",
    "\n",
    "if method_one == method_two:\n",
    "    print(\"Method one equals method two\")\n",
    "else:\n",
    "    print(\"Method one does NOT equals method two\")"
   ]
  },
  {
   "cell_type": "code",
   "execution_count": null,
   "id": "092b226d-89b5-4d86-8d65-70fd2d11cc7d",
   "metadata": {},
   "outputs": [],
   "source": []
  },
  {
   "cell_type": "code",
   "execution_count": null,
   "id": "9d3f08e1-7c6b-46a8-90e1-e659e6ddf01e",
   "metadata": {},
   "outputs": [],
   "source": [
    "Chapter 4\n",
    "Exercise 4.1"
   ]
  },
  {
   "cell_type": "code",
   "execution_count": 1,
   "id": "4cf6456b-8b6d-4686-a6d6-8cbbc7a48666",
   "metadata": {},
   "outputs": [],
   "source": [
    "import numpy as np"
   ]
  },
  {
   "cell_type": "code",
   "execution_count": 2,
   "id": "405e0886-cc21-42b2-b8b0-a0aac42ffb67",
   "metadata": {},
   "outputs": [],
   "source": [
    "from os.path import basename, exists\n",
    "\n",
    "\n",
    "def download(url):\n",
    "    filename = basename(url)\n",
    "    if not exists(filename):\n",
    "        from urllib.request import urlretrieve\n",
    "\n",
    "        local, _ = urlretrieve(url, filename)\n",
    "        print(\"Downloaded \" + local)\n",
    "\n",
    "\n",
    "download(\"https://github.com/AllenDowney/ThinkStats2/raw/master/code/thinkstats2.py\")\n",
    "download(\"https://github.com/AllenDowney/ThinkStats2/raw/master/code/thinkplot.py\")\n",
    "download(\"https://github.com/AllenDowney/ThinkStats2/raw/master/code/nsfg.py\")\n",
    "download(\"https://github.com/AllenDowney/ThinkStats2/raw/master/code/first.py\")\n",
    "\n",
    "\n",
    "download(\"https://github.com/AllenDowney/ThinkStats2/raw/master/code/2002FemPreg.dct\")\n",
    "download(\n",
    "    \"https://github.com/AllenDowney/ThinkStats2/raw/master/code/2002FemPreg.dat.gz\"\n",
    ")"
   ]
  },
  {
   "cell_type": "code",
   "execution_count": 23,
   "id": "fbdfb314-3ef9-4e82-94b6-e27ef995d3bd",
   "metadata": {},
   "outputs": [],
   "source": [
    "import thinkstats2\n",
    "import thinkplot"
   ]
  },
  {
   "cell_type": "markdown",
   "id": "936e0229-bb26-4926-a1b3-243309607404",
   "metadata": {},
   "source": [
    "**Exercise:** How much did you weigh at birth? If you don’t know, call your mother or someone else who knows. Using the NSFG data (all live births), compute the distribution of birth weights and use it to find your percentile rank. If you were a first baby, find your percentile rank in the distribution for first babies. Otherwise use the distribution for others. If you are in the 90th percentile or higher, call your mother back and apologize."
   ]
  },
  {
   "cell_type": "code",
   "execution_count": 24,
   "id": "eda302ce-8410-40e7-916c-453d2f4228a6",
   "metadata": {},
   "outputs": [],
   "source": [
    "#Since I am the second child, I used the variable below (other)\n",
    "other_cdf = thinkstats2.Cdf(others.totalwgt_lb, label='other')"
   ]
  },
  {
   "cell_type": "code",
   "execution_count": 25,
   "id": "25c70966-7d23-450b-8964-e17c012382b7",
   "metadata": {},
   "outputs": [
    {
     "data": {
      "text/plain": [
       "98.4812834224599"
      ]
     },
     "execution_count": 25,
     "metadata": {},
     "output_type": "execute_result"
    }
   ],
   "source": [
    "#here I used the other.cdf variable to calculate the percentile rank\n",
    "#using my weight at birth. \n",
    "other_cdf.PercentileRank(10.1)"
   ]
  },
  {
   "cell_type": "markdown",
   "id": "7c6b85e7-157d-4296-b7d6-44b110745771",
   "metadata": {},
   "source": [
    "4.2\n",
    "\n",
    "**Exercise:** The numbers generated by `numpy.random.random` are supposed to be uniform between 0 and 1; that is, every value in the range should have the same probability.\n",
    "\n",
    "Generate 1000 numbers from `numpy.random.random` and plot their PMF.  What goes wrong?\n",
    "\n",
    "Now plot the CDF. Is the distribution uniform?"
   ]
  },
  {
   "cell_type": "code",
   "execution_count": 47,
   "id": "7c736fc2-1117-41d2-91fc-65b3e265a35b",
   "metadata": {},
   "outputs": [],
   "source": [
    "#here I asked for the 1000 random numbers to be generated\n",
    "random_numbers = np.random.random(1000)"
   ]
  },
  {
   "cell_type": "code",
   "execution_count": 45,
   "id": "dd2c8529-d4bd-435e-9c37-6dae22219cc7",
   "metadata": {},
   "outputs": [
    {
     "data": {
      "image/png": "[encoded data removed]",
      "text/plain": [
       "<Figure size 432x288 with 1 Axes>"
      ]
     },
     "metadata": {
      "needs_background": "light"
     },
     "output_type": "display_data"
    }
   ],
   "source": [
    "#then I creaed the variable pmf using the thinkstats2.pmf and as the\n",
    "#object, the random numbers, then used the thinkplot to put in the \n",
    "#graph form and used the Config to add labels to the plot\n",
    "pmf = thinkstats2.Pmf(random_numbers)\n",
    "thinkplot.Pmf(pmf)\n",
    "thinkplot.Config(xlabel='Random 1000 numbers', ylabel='PMF')"
   ]
  },
  {
   "cell_type": "markdown",
   "id": "147ecabb-951b-4417-859c-ac51c940681c",
   "metadata": {},
   "source": [
    "In this scenario, the 1000 random numbers are not compared to anything else, so each number has the same probability as the other, no trends are present, no spikes, so it's uniform."
   ]
  },
  {
   "cell_type": "code",
   "execution_count": 41,
   "id": "e2c43622-97f1-4097-a6b2-1a8f4326f35a",
   "metadata": {},
   "outputs": [
    {
     "data": {
      "image/png": "[encoded data removed]",
      "text/plain": [
       "<Figure size 432x288 with 1 Axes>"
      ]
     },
     "metadata": {
      "needs_background": "light"
     },
     "output_type": "display_data"
    }
   ],
   "source": [
    "#here I calculated the CDF using the thinkstates2.cdf formula\n",
    "#and then plot\n",
    "cdf = thinkstats2.Cdf(random_numbers)\n",
    "thinkplot.Cdf(cdf)\n",
    "thinkplot.Config(xlabel='Random 1000 numbers', ylabel='CDF')"
   ]
  },
  {
   "cell_type": "markdown",
   "id": "f20c61f5-8ee3-417c-89cd-7607c3e52783",
   "metadata": {},
   "source": [
    "It is a straight line, so it's considered uniform. 10% of the sample is below the 10th percentile, 20% is below the 20 percentile and so on."
   ]
  }
 ],
 "metadata": {
  "kernelspec": {
   "display_name": "Python 3 (ipykernel)",
   "language": "python",
   "name": "python3"
  },
  "language_info": {
   "codemirror_mode": {
    "name": "ipython",
    "version": 3
   },
   "file_extension": ".py",
   "mimetype": "text/x-python",
   "name": "python",
   "nbconvert_exporter": "python",
   "pygments_lexer": "ipython3",
   "version": "3.9.12"
  }
 },
 "nbformat": 4,
 "nbformat_minor": 5
}
