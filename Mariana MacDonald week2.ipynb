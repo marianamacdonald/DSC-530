{
 "cells": [
  {
   "cell_type": "code",
   "execution_count": 13,
   "id": "f4c76017-96b5-4bc8-9c84-36549ec0df6e",
   "metadata": {},
   "outputs": [],
   "source": [
    "# Display the text “Hello World! I wonder why that is always the default coding text to start with”"
   ]
  },
  {
   "cell_type": "code",
   "execution_count": 20,
   "id": "bce82e38-2471-4eb8-86ef-baaaa001cbde",
   "metadata": {},
   "outputs": [
    {
     "name": "stdout",
     "output_type": "stream",
     "text": [
      "Hello World! I wonder why that is always the default coding text to start with\n"
     ]
    }
   ],
   "source": [
    "print('Hello World! I wonder why that is always the default coding text to start with')"
   ]
  },
  {
   "cell_type": "code",
   "execution_count": 21,
   "id": "ea1202d4-0f01-4f0a-b5ca-35e7e2fc3cb3",
   "metadata": {},
   "outputs": [
    {
     "data": {
      "text/plain": [
       "4"
      ]
     },
     "execution_count": 21,
     "metadata": {},
     "output_type": "execute_result"
    }
   ],
   "source": [
    "# Add two numbers together\n",
    "2+2"
   ]
  },
  {
   "cell_type": "code",
   "execution_count": 22,
   "id": "61ef7325-2cae-476e-bfcf-fe0be8a7f502",
   "metadata": {},
   "outputs": [
    {
     "data": {
      "text/plain": [
       "5"
      ]
     },
     "execution_count": 22,
     "metadata": {},
     "output_type": "execute_result"
    }
   ],
   "source": [
    "# Subtract a number from another number\n",
    "10-5"
   ]
  },
  {
   "cell_type": "code",
   "execution_count": 23,
   "id": "828e7c67-9df1-40cd-ab9b-89f099004fe4",
   "metadata": {},
   "outputs": [
    {
     "data": {
      "text/plain": [
       "4"
      ]
     },
     "execution_count": 23,
     "metadata": {},
     "output_type": "execute_result"
    }
   ],
   "source": [
    "# Multiply two numbers\n",
    "2*2"
   ]
  },
  {
   "cell_type": "code",
   "execution_count": 24,
   "id": "e71a2945-07ad-4e53-90ff-faa32f735411",
   "metadata": {},
   "outputs": [
    {
     "data": {
      "text/plain": [
       "2.0"
      ]
     },
     "execution_count": 24,
     "metadata": {},
     "output_type": "execute_result"
    }
   ],
   "source": [
    "# Divide between two numbers\n",
    "10/5"
   ]
  },
  {
   "cell_type": "code",
   "execution_count": 25,
   "id": "016c0bbf-8746-4c57-b6d2-c4ac03d1de33",
   "metadata": {},
   "outputs": [],
   "source": [
    "# Concatenate two strings together (any words)"
   ]
  },
  {
   "cell_type": "code",
   "execution_count": 26,
   "id": "787afc2e-15fa-49b3-a6a3-23bb824cf199",
   "metadata": {},
   "outputs": [
    {
     "data": {
      "text/plain": [
       "'You are learning Python'"
      ]
     },
     "execution_count": 26,
     "metadata": {},
     "output_type": "execute_result"
    }
   ],
   "source": [
    "\"You are\" + \" learning Python\""
   ]
  },
  {
   "cell_type": "code",
   "execution_count": 27,
   "id": "48ed30cb-5dce-4b20-8c13-bee6a1834678",
   "metadata": {},
   "outputs": [],
   "source": [
    "# Create a list of 4 items (can be strings, numbers, both)"
   ]
  },
  {
   "cell_type": "code",
   "execution_count": 28,
   "id": "85815b0b-242f-45fd-b8e4-969b31901ba5",
   "metadata": {},
   "outputs": [],
   "source": [
    "# Append an item to your list (again, can be a string, number)"
   ]
  },
  {
   "cell_type": "code",
   "execution_count": 29,
   "id": "d9400656-e507-4a75-a22e-b9454fb3812e",
   "metadata": {},
   "outputs": [],
   "source": [
    "# Create a tuple with 4 items (can be strings, numbers, both)"
   ]
  },
  {
   "cell_type": "code",
   "execution_count": null,
   "id": "69ca8e52-f8a7-4f62-adcb-762235189959",
   "metadata": {},
   "outputs": [],
   "source": []
  }
 ],
 "metadata": {
  "kernelspec": {
   "display_name": "Python 3 (ipykernel)",
   "language": "python",
   "name": "python3"
  },
  "language_info": {
   "codemirror_mode": {
    "name": "ipython",
    "version": 3
   },
   "file_extension": ".py",
   "mimetype": "text/x-python",
   "name": "python",
   "nbconvert_exporter": "python",
   "pygments_lexer": "ipython3",
   "version": "3.9.12"
  }
 },
 "nbformat": 4,
 "nbformat_minor": 5
}
