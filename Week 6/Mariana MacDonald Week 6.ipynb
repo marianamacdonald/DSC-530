{
 "cells": [
  {
   "cell_type": "markdown",
   "id": "d53a0337-cb2d-4826-9dba-8c872edeed25",
   "metadata": {},
   "source": [
    "## Mariana MacDonald\n",
    "\n",
    "Week 6"
   ]
  },
  {
   "cell_type": "markdown",
   "id": "08c97a2b-861a-4772-a080-c0c7a5ecc707",
   "metadata": {
    "tags": []
   },
   "source": [
    "## Exercises"
   ]
  },
  {
   "cell_type": "markdown",
   "id": "16b28f90-b75a-4830-a822-f19e6bb97885",
   "metadata": {},
   "source": [
    "Using data from the NSFG, make a scatter plot of birth weight versus mother’s age. Plot percentiles of birth weight versus mother’s age. Compute Pearson’s and Spearman’s correlations. How would you characterize the relationship between these variables?"
   ]
  },
  {
   "cell_type": "code",
   "execution_count": 52,
   "id": "43be8913-ba6e-4118-8bda-1af1ee161f3c",
   "metadata": {},
   "outputs": [],
   "source": [
    "from os.path import basename, exists\n",
    "\n",
    "\n",
    "def download(url):\n",
    "    filename = basename(url)\n",
    "    if not exists(filename):\n",
    "        from urllib.request import urlretrieve\n",
    "\n",
    "        local, _ = urlretrieve(url, filename)\n",
    "        print(\"Downloaded \" + local)\n",
    "\n",
    "download(\"https://github.com/AllenDowney/ThinkStats2/raw/master/code/thinkstats2.py\")\n",
    "download(\"https://github.com/AllenDowney/ThinkStats2/raw/master/code/thinkplot.py\")"
   ]
  },
  {
   "cell_type": "code",
   "execution_count": 53,
   "id": "2b1469af-c3dd-4981-b21f-3afff24ba739",
   "metadata": {},
   "outputs": [],
   "source": [
    "import numpy as np\n",
    "\n",
    "\n",
    "import thinkstats2\n",
    "import thinkplot"
   ]
  },
  {
   "cell_type": "code",
   "execution_count": 54,
   "id": "3a917c51-6108-4a04-b3c4-1491b7707db4",
   "metadata": {},
   "outputs": [],
   "source": [
    "download(\"https://github.com/AllenDowney/ThinkStats2/raw/master/code/nsfg.py\")\n",
    "download(\"https://github.com/AllenDowney/ThinkStats2/raw/master/code/first.py\")\n",
    "download(\"https://github.com/AllenDowney/ThinkStats2/raw/master/code/2002FemPreg.dct\")\n",
    "download(\n",
    "    \"https://github.com/AllenDowney/ThinkStats2/raw/master/code/2002FemPreg.dat.gz\"\n",
    ")"
   ]
  },
  {
   "cell_type": "code",
   "execution_count": 55,
   "id": "e270c9ab-22fa-4e20-aa13-70b5812a621f",
   "metadata": {},
   "outputs": [],
   "source": [
    "import first\n",
    "\n",
    "live, firsts, others = first.MakeFrames()\n",
    "live = live.dropna(subset=['agepreg', 'totalwgt_lb'])"
   ]
  },
  {
   "cell_type": "code",
   "execution_count": 56,
   "id": "405c41a0-df6c-4334-8476-4525eaef6c05",
   "metadata": {},
   "outputs": [],
   "source": [
    "def Corr(xs, ys):\n",
    "    xs = np.asarray(xs)\n",
    "    ys = np.asarray(ys)\n",
    "\n",
    "    meanx, varx = thinkstats2.MeanVar(xs)\n",
    "    meany, vary = thinkstats2.MeanVar(ys)\n",
    "\n",
    "    corr = Cov(xs, ys, meanx, meany) / np.sqrt(varx * vary)\n",
    "    return corr"
   ]
  },
  {
   "cell_type": "code",
   "execution_count": 57,
   "id": "07ffe37f-6b96-4d19-a4e4-b8ac4a727e56",
   "metadata": {},
   "outputs": [],
   "source": [
    "def Cov(xs, ys, meanx=None, meany=None):\n",
    "    xs = np.asarray(xs)\n",
    "    ys = np.asarray(ys)\n",
    "\n",
    "    if meanx is None:\n",
    "        meanx = np.mean(xs)\n",
    "    if meany is None:\n",
    "        meany = np.mean(ys)\n",
    "\n",
    "    cov = np.dot(xs-meanx, ys-meany) / len(xs)\n",
    "    return cov"
   ]
  },
  {
   "cell_type": "code",
   "execution_count": 58,
   "id": "1d7e1897-8a7c-49fb-99e2-10a1011b95f9",
   "metadata": {},
   "outputs": [],
   "source": [
    "def SpearmanCorr(xs, ys):\n",
    "    xs = pd.Series(xs)\n",
    "    ys = pd.Series(ys)\n",
    "    return xs.corr(ys, method='spearman')"
   ]
  },
  {
   "cell_type": "code",
   "execution_count": 59,
   "id": "0de31c36-0c1e-4514-b7a2-e0140eea7526",
   "metadata": {},
   "outputs": [],
   "source": [
    "import pandas as pd\n",
    "\n",
    "def SpearmanCorr(xs, ys):\n",
    "    xranks = pd.Series(xs).rank()\n",
    "    yranks = pd.Series(ys).rank()\n",
    "    return Corr(xranks, yranks)"
   ]
  },
  {
   "cell_type": "markdown",
   "id": "1b461704-8b3f-4cae-a705-abd78d758393",
   "metadata": {
    "tags": []
   },
   "source": [
    "## Exercise starts here"
   ]
  },
  {
   "cell_type": "markdown",
   "id": "b9583736-3f3a-4f0d-84ab-678d1fd76c00",
   "metadata": {},
   "source": [
    "CHAPTER 7 \n",
    "Exercise 7.1"
   ]
  },
  {
   "cell_type": "markdown",
   "id": "70a9bc3b-5927-4292-ab5a-6d5eee432543",
   "metadata": {},
   "source": [
    "Using data from the NSFG, make a scatter plot of birth weight versus mother’s age. Plot percentiles of birth weight versus mother’s age. Compute Pearson’s and Spearman’s correlations. How would you characterize the relationship between these variables?"
   ]
  },
  {
   "cell_type": "code",
   "execution_count": 60,
   "id": "3209aeb1-33c6-4da1-862b-6571b0297944",
   "metadata": {},
   "outputs": [],
   "source": [
    "import nsfg"
   ]
  },
  {
   "cell_type": "code",
   "execution_count": 61,
   "id": "3b3114e5-8012-480d-8a89-00aded0770b3",
   "metadata": {},
   "outputs": [
    {
     "data": {
      "text/plain": [
       "0    33.16\n",
       "1    39.25\n",
       "2    14.33\n",
       "3    17.83\n",
       "4    18.33\n",
       "Name: agepreg, dtype: float64"
      ]
     },
     "execution_count": 61,
     "metadata": {},
     "output_type": "execute_result"
    }
   ],
   "source": [
    "#I created a variable using the live dataframe for age\n",
    "ages = live.agepreg\n",
    "ages.head()"
   ]
  },
  {
   "cell_type": "code",
   "execution_count": 62,
   "id": "ad850bfe-bf21-4951-a46e-6f417e61b432",
   "metadata": {},
   "outputs": [
    {
     "data": {
      "text/plain": [
       "0    8.8125\n",
       "1    7.8750\n",
       "2    9.1250\n",
       "3    7.0000\n",
       "4    6.1875\n",
       "Name: totalwgt_lb, dtype: float64"
      ]
     },
     "execution_count": 62,
     "metadata": {},
     "output_type": "execute_result"
    }
   ],
   "source": [
    "#I created a variable using the live dataframe for weights\n",
    "weights = live.totalwgt_lb\n",
    "weights.head()"
   ]
  },
  {
   "cell_type": "code",
   "execution_count": 63,
   "id": "e5c2efd7-7a66-4fe9-bfd4-93bcb9dfce70",
   "metadata": {},
   "outputs": [
    {
     "data": {
      "text/plain": [
       "0.06883397035410908"
      ]
     },
     "execution_count": 63,
     "metadata": {},
     "output_type": "execute_result"
    }
   ],
   "source": [
    "#used the Corr function to find the correlation between age and weight\n",
    "Corr(ages, weights)"
   ]
  },
  {
   "cell_type": "code",
   "execution_count": 64,
   "id": "c6d7a9d1-68d1-4dbd-8b86-5c3041a0fd8b",
   "metadata": {},
   "outputs": [
    {
     "data": {
      "text/plain": [
       "0.09461004109658226"
      ]
     },
     "execution_count": 64,
     "metadata": {},
     "output_type": "execute_result"
    }
   ],
   "source": [
    "#used the Spearmans rank Corr function to mittigate the effect\n",
    "#of outliers and skewed distributions.\n",
    "SpearmanCorr(ages, weights)"
   ]
  },
  {
   "cell_type": "code",
   "execution_count": 65,
   "id": "c3203010-ec67-4b75-b9b5-f5f4483f8b2c",
   "metadata": {},
   "outputs": [
    {
     "data": {
      "image/png": "[encoded data removed]",
      "text/plain": [
       "<Figure size 432x288 with 1 Axes>"
      ]
     },
     "metadata": {
      "needs_background": "light"
     },
     "output_type": "display_data"
    }
   ],
   "source": [
    "#plotted scatter plot of age versus weight (s is the size of the markers\n",
    "# and alpha is the transparency\n",
    "\n",
    "thinkplot.Scatter(ages, weights, alpha=0.05, s=10)\n",
    "thinkplot.Config(xlabel='Age (years)',\n",
    "                     ylabel='Birth weight (lbs)',\n",
    "                     title='Age vs Birth Weight')"
   ]
  },
  {
   "cell_type": "code",
   "execution_count": 66,
   "id": "066b86be-0730-440b-b6a0-d1b27c8e9513",
   "metadata": {},
   "outputs": [],
   "source": [
    "#I'll divide the dataset into groups by age 10 min and 48 max, 3 groups.\n",
    "bins = np.arange(10,48,3)\n",
    "indices = np.digitize(live.agepreg, bins)\n",
    "groups = live.groupby(indices)"
   ]
  },
  {
   "cell_type": "code",
   "execution_count": 67,
   "id": "1c1e1783-016f-47fc-8b3e-ae44d1a7437d",
   "metadata": {},
   "outputs": [
    {
     "name": "stdout",
     "output_type": "stream",
     "text": [
      "1 4\n",
      "2 180\n",
      "3 1169\n",
      "4 1824\n",
      "5 1695\n",
      "6 1505\n",
      "7 1223\n",
      "8 830\n",
      "9 402\n",
      "10 170\n",
      "11 34\n",
      "12 2\n"
     ]
    }
   ],
   "source": [
    "#Here are the number of respondents in each group:\n",
    "for i, group in groups:\n",
    "    print(i, len(group))"
   ]
  },
  {
   "cell_type": "code",
   "execution_count": 68,
   "id": "4ba3ab4c-196b-4ba2-ac54-ecc823479d4d",
   "metadata": {},
   "outputs": [],
   "source": [
    "#Now we can compute the CDF of weight within each group.\n",
    "ages = [group.agepreg.mean() for i, group in groups]\n",
    "cdfs = [thinkstats2.Cdf(group.totalwgt_lb) for i, group in groups]"
   ]
  },
  {
   "cell_type": "code",
   "execution_count": 69,
   "id": "cb5d72de-b607-4682-92c4-346f0caf9d7a",
   "metadata": {},
   "outputs": [
    {
     "data": {
      "image/png": "[encoded data removed]",
      "text/plain": [
       "<Figure size 432x288 with 1 Axes>"
      ]
     },
     "metadata": {
      "needs_background": "light"
     },
     "output_type": "display_data"
    }
   ],
   "source": [
    "#extract the 25th, 50th, and 75th percentile from each group.\n",
    "for percent in [75, 50, 25]:\n",
    "    weights = [cdf.Percentile(percent) for cdf in cdfs]\n",
    "    label = '%dth' % percent\n",
    "    thinkplot.Plot(ages, weights, label=label)\n",
    "    \n",
    "thinkplot.Config(xlabel='Age (years)',\n",
    "                 ylabel='Weight (kg)',\n",
    "                 xlim=[14, 45], legend=True)"
   ]
  },
  {
   "cell_type": "code",
   "execution_count": null,
   "id": "84512708-f2fe-407a-a41f-94c8a9edccf7",
   "metadata": {},
   "outputs": [],
   "source": []
  },
  {
   "cell_type": "markdown",
   "id": "0a3be091-102c-4aa4-8565-7a9ec6da3b48",
   "metadata": {},
   "source": [
    "The scatter plot does not a strong relationship between the mother's age and the weight of the baby. Since Spearman's correlation is about 0.09 and Pearson's about 0.07, this may be indication of a non-linear relationship as the scatter plot shows or that the outliers are influencing on it. "
   ]
  },
  {
   "cell_type": "markdown",
   "id": "9a498423-d955-4836-9473-32565f6be690",
   "metadata": {},
   "source": [
    "Spearman's correlation of 0.09 is higher than Pearson's of 0.07 which suggests that Pearson's may have some influence with the outliers in the data."
   ]
  },
  {
   "cell_type": "markdown",
   "id": "5daffdcb-f886-4ac9-a350-f3d76bb9dd48",
   "metadata": {},
   "source": [
    "When I plot the percentiles of age vs baby weight, as the age increases by 5, I can see there is an increase grom 15 to 25 years old in baby's weights but after that, the relationship is not so strong and it's not a linear relationship."
   ]
  },
  {
   "cell_type": "code",
   "execution_count": null,
   "id": "c5730b39-e026-4efe-815d-3d26610c0537",
   "metadata": {},
   "outputs": [],
   "source": []
  },
  {
   "cell_type": "markdown",
   "id": "d7b51738-4333-4b54-9fcb-75d92b165b20",
   "metadata": {},
   "source": [
    "CHAPTER 8\n",
    "Exercise 8.1"
   ]
  },
  {
   "cell_type": "markdown",
   "id": "b7055029-c3f8-4282-a1b2-f6a5ace6fb67",
   "metadata": {},
   "source": [
    "**Exercise:**  In this chapter we used $\\bar{x}$ and median to estimate µ, and found that $\\bar{x}$ yields lower MSE. Also, we used $S^2$ and $S_{n-1}^2$ to estimate σ, and found that $S^2$ is biased and $S_{n-1}^2$ unbiased.\n",
    "Run similar experiments to see if $\\bar{x}$ and median are biased estimates of µ. Also check whether $S^2$ or $S_{n-1}^2$ yields a lower MSE."
   ]
  },
  {
   "cell_type": "code",
   "execution_count": 70,
   "id": "8de92ba1-fa96-43fb-9701-85e5ed19a0d8",
   "metadata": {},
   "outputs": [],
   "source": [
    "def RMSE(estimates, actual):\n",
    "    \"\"\"Computes the root mean squared error of a sequence of estimates.\n",
    "\n",
    "    estimate: sequence of numbers\n",
    "    actual: actual value\n",
    "\n",
    "    returns: float RMSE\n",
    "    \"\"\"\n",
    "    e2 = [(estimate-actual)**2 for estimate in estimates]\n",
    "    mse = np.mean(e2)\n",
    "    return np.sqrt(mse)"
   ]
  },
  {
   "cell_type": "code",
   "execution_count": 71,
   "id": "443a4732-3460-4ea4-9f6f-1ca015a7259d",
   "metadata": {},
   "outputs": [],
   "source": [
    "def MeanError(estimates, actual):\n",
    "    \"\"\"Computes the mean error of a sequence of estimates.\n",
    "\n",
    "    estimate: sequence of numbers\n",
    "    actual: actual value\n",
    "\n",
    "    returns: float mean error\n",
    "    \"\"\"\n",
    "    errors = [estimate-actual for estimate in estimates]\n",
    "    return np.mean(errors)"
   ]
  },
  {
   "cell_type": "code",
   "execution_count": 72,
   "id": "a67e75d2-98a7-4bea-ab75-282bdb36ff5b",
   "metadata": {},
   "outputs": [
    {
     "name": "stdout",
     "output_type": "stream",
     "text": [
      "Experiment 1\n",
      "mean error xbar -0.018761424708682247\n",
      "mean error median -0.004314995458761993\n"
     ]
    }
   ],
   "source": [
    "import random\n",
    "\n",
    "def Estimate1(n=7, iters=1000):\n",
    "    mu = 0\n",
    "    sigma = 1\n",
    "\n",
    "    means = []\n",
    "    medians = []\n",
    "    for _ in range(iters):\n",
    "        xs = [random.gauss(mu, sigma) for _ in range(n)]\n",
    "        xbar = np.mean(xs)\n",
    "        median = np.median(xs)\n",
    "        means.append(xbar)\n",
    "        medians.append(median)\n",
    "\n",
    "    print('Experiment 1')\n",
    "    print('mean error xbar', MeanError(means, mu))\n",
    "    print('mean error median', MeanError(medians, mu))\n",
    "    \n",
    "Estimate1()"
   ]
  },
  {
   "cell_type": "code",
   "execution_count": null,
   "id": "fa31bfd8-21ae-4a58-8f96-42989bbfbc9f",
   "metadata": {},
   "outputs": [],
   "source": []
  },
  {
   "cell_type": "code",
   "execution_count": 73,
   "id": "438643fd-58bd-4a20-b5b6-5c7a32d9cbb8",
   "metadata": {},
   "outputs": [
    {
     "name": "stdout",
     "output_type": "stream",
     "text": [
      "Experiment 2\n",
      "RMSE biased 0.516042454609184\n",
      "RMSE unbiased 0.5785971333645968\n"
     ]
    }
   ],
   "source": [
    "def Estimate5(n=7, iters=100000):\n",
    "\n",
    "    mu = 0\n",
    "    sigma = 1\n",
    "\n",
    "    estimates1 = []\n",
    "    estimates2 = []\n",
    "    for _ in range(iters):\n",
    "        xs = [random.gauss(mu, sigma) for i in range(n)]\n",
    "        biased = np.var(xs)\n",
    "        unbiased = np.var(xs, ddof=1)\n",
    "        estimates1.append(biased)\n",
    "        estimates2.append(unbiased)\n",
    "\n",
    "    print('Experiment 2')\n",
    "    print('RMSE biased', RMSE(estimates1, sigma**2))\n",
    "    print('RMSE unbiased', RMSE(estimates2, sigma**2))\n",
    "\n",
    "Estimate5()"
   ]
  },
  {
   "cell_type": "markdown",
   "id": "d37a6f5f-6ab1-4999-9cd7-9762cf095a56",
   "metadata": {},
   "source": [
    "When I run the Experiment 1, I got xbar and median very low, close to zero, which is a good indicative that they are unbiased. \n",
    "\n",
    "On the Experiment 2 I got the value of biased lower than unbiased, even if I run multiple times."
   ]
  },
  {
   "cell_type": "code",
   "execution_count": null,
   "id": "68fd2890-7fd0-4e17-be33-3548e2e10637",
   "metadata": {},
   "outputs": [],
   "source": []
  },
  {
   "cell_type": "code",
   "execution_count": null,
   "id": "33f35a9c-8c25-45ce-acd6-8881357d265d",
   "metadata": {},
   "outputs": [],
   "source": []
  },
  {
   "cell_type": "markdown",
   "id": "faa1df96-9848-45a6-8348-f473014ba76b",
   "metadata": {},
   "source": [
    "Exercise 8.2"
   ]
  },
  {
   "cell_type": "markdown",
   "id": "395d1e19-fa5d-449f-94da-952878f2c9b3",
   "metadata": {},
   "source": [
    "Suppose you draw a sample with size n=10 from an exponential distribution with λ=2. Simulate this experiment 1000 times and plot the sampling distribution of the estimate L. Compute the standard error of the estimate and the 90% confidence interval.\n",
    "\n",
    "Repeat the experiment with a few different values of `n` and make a plot of standard error versus `n`."
   ]
  },
  {
   "cell_type": "code",
   "execution_count": 108,
   "id": "06ed16af-70ac-4446-83fe-e3712fd2b62e",
   "metadata": {},
   "outputs": [
    {
     "name": "stdout",
     "output_type": "stream",
     "text": [
      "standard error 0.8428983775854112\n",
      "confidence interval (1.2394769080109573, 3.770988345846102)\n"
     ]
    },
    {
     "data": {
      "text/plain": [
       "0.8428983775854112"
      ]
     },
     "execution_count": 108,
     "metadata": {},
     "output_type": "execute_result"
    },
    {
     "data": {
      "image/png": "[encoded data removed]",
      "text/plain": [
       "<Figure size 432x288 with 1 Axes>"
      ]
     },
     "metadata": {
      "needs_background": "light"
     },
     "output_type": "display_data"
    }
   ],
   "source": [
    "#used the lambda 2, sample size 10 and simulated 1000 times.\n",
    "#vertline is plotting the confidence interval (the 2 grey lines)\n",
    "\n",
    "\n",
    "def SimulateSample(lam=2, n=10, iters=1000):\n",
    "    \"\"\"Sampling distribution of L as an estimator of exponential parameter.\n",
    "\n",
    "    lam: parameter of an exponential distribution\n",
    "    n: sample size\n",
    "    iters: number of iterations\n",
    "    \"\"\"\n",
    "    def VertLine(x, y=1):\n",
    "        thinkplot.Plot([x, x], [0, y], color='0.8', linewidth=3)\n",
    "\n",
    "    estimates = []\n",
    "    for _ in range(iters):\n",
    "        xs = np.random.exponential(1.0/lam, n)\n",
    "        lamhat = 1.0 / np.mean(xs)\n",
    "        estimates.append(lamhat)\n",
    "\n",
    "        \n",
    "#calculating the standard error\n",
    "    stderr = RMSE(estimates, lam)\n",
    "    print('standard error', stderr)\n",
    "\n",
    "    \n",
    "#calculating the cdf\n",
    "    cdf = thinkstats2.Cdf(estimates)\n",
    "    ci = cdf.Percentile(5), cdf.Percentile(95)\n",
    "    print('confidence interval', ci)\n",
    "    VertLine(ci[0])\n",
    "    VertLine(ci[1])\n",
    "\n",
    "    # plot the CDF\n",
    "    thinkplot.Cdf(cdf)\n",
    "    thinkplot.Config(xlabel='estimate',\n",
    "                     ylabel='CDF',\n",
    "                     title='Sampling distribution')\n",
    "\n",
    "    return stderr\n",
    "\n",
    "SimulateSample()"
   ]
  },
  {
   "cell_type": "code",
   "execution_count": 109,
   "id": "9e7360ab-d2dc-4e0f-95be-5520b79b7eb3",
   "metadata": {},
   "outputs": [
    {
     "name": "stdout",
     "output_type": "stream",
     "text": [
      "standard error 0.20221977238534372\n",
      "confidence interval (1.7185407792225837, 2.383082577318839)\n"
     ]
    },
    {
     "data": {
      "text/plain": [
       "0.20221977238534372"
      ]
     },
     "execution_count": 109,
     "metadata": {},
     "output_type": "execute_result"
    },
    {
     "data": {
      "image/png": "[encoded data removed]",
      "text/plain": [
       "<Figure size 432x288 with 1 Axes>"
      ]
     },
     "metadata": {
      "needs_background": "light"
     },
     "output_type": "display_data"
    }
   ],
   "source": [
    "#here I change n from 10 to 100\n",
    "\n",
    "\n",
    "def SimulateSample(lam=2, n=100, iters=1000):\n",
    "    \"\"\"Sampling distribution of L as an estimator of exponential parameter.\n",
    "\n",
    "    lam: parameter of an exponential distribution\n",
    "    n: sample size\n",
    "    iters: number of iterations\n",
    "    \"\"\"\n",
    "    def VertLine(x, y=1):\n",
    "        thinkplot.Plot([x, x], [0, y], color='0.8', linewidth=3)\n",
    "\n",
    "    estimates = []\n",
    "    for _ in range(iters):\n",
    "        xs = np.random.exponential(1.0/lam, n)\n",
    "        lamhat = 1.0 / np.mean(xs)\n",
    "        estimates.append(lamhat)\n",
    "\n",
    "        \n",
    "#calculating the standard error\n",
    "    stderr = RMSE(estimates, lam)\n",
    "    print('standard error', stderr)\n",
    "\n",
    "    \n",
    "#calculating the cdf\n",
    "    cdf = thinkstats2.Cdf(estimates)\n",
    "    ci = cdf.Percentile(5), cdf.Percentile(95)\n",
    "    print('confidence interval', ci)\n",
    "    VertLine(ci[0])\n",
    "    VertLine(ci[1])\n",
    "\n",
    "    # plot the CDF\n",
    "    thinkplot.Cdf(cdf)\n",
    "    thinkplot.Config(xlabel='estimate',\n",
    "                     ylabel='CDF',\n",
    "                     title='Sampling distribution')\n",
    "\n",
    "    return stderr\n",
    "\n",
    "SimulateSample()"
   ]
  },
  {
   "cell_type": "code",
   "execution_count": 110,
   "id": "d8b5d6a2-4abf-4c86-a6eb-888206398c89",
   "metadata": {},
   "outputs": [
    {
     "name": "stdout",
     "output_type": "stream",
     "text": [
      "standard error 0.06537440215414633\n",
      "confidence interval (1.8944398686525754, 2.113051360236155)\n"
     ]
    },
    {
     "data": {
      "text/plain": [
       "0.06537440215414633"
      ]
     },
     "execution_count": 110,
     "metadata": {},
     "output_type": "execute_result"
    },
    {
     "data": {
      "image/png": "[encoded data removed]",
      "text/plain": [
       "<Figure size 432x288 with 1 Axes>"
      ]
     },
     "metadata": {
      "needs_background": "light"
     },
     "output_type": "display_data"
    }
   ],
   "source": [
    "#here I change n from 100 to 1000\n",
    "\n",
    "\n",
    "def SimulateSample(lam=2, n=1000, iters=1000):\n",
    "    \"\"\"Sampling distribution of L as an estimator of exponential parameter.\n",
    "\n",
    "    lam: parameter of an exponential distribution\n",
    "    n: sample size\n",
    "    iters: number of iterations\n",
    "    \"\"\"\n",
    "    def VertLine(x, y=1):\n",
    "        thinkplot.Plot([x, x], [0, y], color='0.8', linewidth=3)\n",
    "\n",
    "    estimates = []\n",
    "    for _ in range(iters):\n",
    "        xs = np.random.exponential(1.0/lam, n)\n",
    "        lamhat = 1.0 / np.mean(xs)\n",
    "        estimates.append(lamhat)\n",
    "\n",
    "        \n",
    "#calculating the standard error\n",
    "    stderr = RMSE(estimates, lam)\n",
    "    print('standard error', stderr)\n",
    "\n",
    "    \n",
    "#calculating the cdf\n",
    "    cdf = thinkstats2.Cdf(estimates)\n",
    "    ci = cdf.Percentile(5), cdf.Percentile(95)\n",
    "    print('confidence interval', ci)\n",
    "    VertLine(ci[0])\n",
    "    VertLine(ci[1])\n",
    "\n",
    "    # plot the CDF\n",
    "    thinkplot.Cdf(cdf)\n",
    "    thinkplot.Config(xlabel='estimate',\n",
    "                     ylabel='CDF',\n",
    "                     title='Sampling distribution')\n",
    "\n",
    "    return stderr\n",
    "\n",
    "SimulateSample()"
   ]
  },
  {
   "cell_type": "code",
   "execution_count": 111,
   "id": "c008624f-185e-4bda-9df9-fb1a0ccfbe81",
   "metadata": {},
   "outputs": [],
   "source": [
    "# 1) With sample size 10:\n",
    "\n",
    "#standard error 0.8121382602700157\n",
    "#confidence interval (1.247049535066752, 3.6490995317252026)\n",
    "\n",
    "# 2) As sample size increases, standard error and the width of\n",
    "#    the CI decrease:\n",
    "\n",
    "# 10      0.8    (1.2, 3.6)\n",
    "# 100     0.20    (1.7, 2.3)\n",
    "# 1000    0.06    (1.9, 2.1)\n",
    "\n",
    "# All three confidence intervals contain the actual value, 2."
   ]
  },
  {
   "cell_type": "code",
   "execution_count": null,
   "id": "90d13ffb-f70b-4f58-9980-7274cfb4edf7",
   "metadata": {},
   "outputs": [],
   "source": [
    "#The numbers can vary a bit everytime I run."
   ]
  }
 ],
 "metadata": {
  "kernelspec": {
   "display_name": "Python 3 (ipykernel)",
   "language": "python",
   "name": "python3"
  },
  "language_info": {
   "codemirror_mode": {
    "name": "ipython",
    "version": 3
   },
   "file_extension": ".py",
   "mimetype": "text/x-python",
   "name": "python",
   "nbconvert_exporter": "python",
   "pygments_lexer": "ipython3",
   "version": "3.9.12"
  }
 },
 "nbformat": 4,
 "nbformat_minor": 5
}
