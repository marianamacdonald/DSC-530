{
 "cells": [
  {
   "cell_type": "markdown",
   "id": "a4c1437b-19aa-4f06-b35e-bdddc981efd2",
   "metadata": {},
   "source": [
    "Mariana MacDonald\n",
    "Week 7\n",
    "Chapter 9\n",
    "Exercise 9.1"
   ]
  },
  {
   "cell_type": "code",
   "execution_count": 2,
   "id": "3416a8e0-0c90-44dc-a966-fe2a4399e1cd",
   "metadata": {},
   "outputs": [],
   "source": [
    "from os.path import basename, exists\n",
    "\n",
    "\n",
    "def download(url):\n",
    "    filename = basename(url)\n",
    "    if not exists(filename):\n",
    "        from urllib.request import urlretrieve\n",
    "\n",
    "        local, _ = urlretrieve(url, filename)\n",
    "        print(\"Downloaded \" + local)\n",
    "\n",
    "\n",
    "download(\"https://github.com/AllenDowney/ThinkStats2/raw/master/code/thinkstats2.py\")\n",
    "download(\"https://github.com/AllenDowney/ThinkStats2/raw/master/code/thinkplot.py\")"
   ]
  },
  {
   "cell_type": "code",
   "execution_count": 3,
   "id": "839561f1-88bd-46b4-81a6-ed2efeef88d4",
   "metadata": {},
   "outputs": [],
   "source": [
    "import numpy as np\n",
    "\n",
    "import random\n",
    "\n",
    "import thinkstats2\n",
    "import thinkplot"
   ]
  },
  {
   "cell_type": "code",
   "execution_count": 4,
   "id": "1bf9ca07-ce0f-4b99-9dd4-961ba901b8c3",
   "metadata": {},
   "outputs": [],
   "source": [
    "download(\"https://github.com/AllenDowney/ThinkStats2/raw/master/code/nsfg.py\")\n",
    "download(\"https://github.com/AllenDowney/ThinkStats2/raw/master/code/first.py\")\n",
    "download(\"https://github.com/AllenDowney/ThinkStats2/raw/master/code/2002FemPreg.dct\")\n",
    "download(\n",
    "    \"https://github.com/AllenDowney/ThinkStats2/raw/master/code/2002FemPreg.dat.gz\"\n",
    ")"
   ]
  },
  {
   "cell_type": "code",
   "execution_count": 5,
   "id": "cfdfb842-9a8c-4f0f-b09e-5ea606b76449",
   "metadata": {},
   "outputs": [],
   "source": [
    "import first\n",
    "\n",
    "live, firsts, others = first.MakeFrames()\n",
    "data = firsts.prglngth.values, others.prglngth.values"
   ]
  },
  {
   "cell_type": "code",
   "execution_count": 6,
   "id": "1122a1ff-dfb3-4ab0-a9a9-e3528c0bef15",
   "metadata": {},
   "outputs": [],
   "source": [
    "class DiffMeansPermute(thinkstats2.HypothesisTest):\n",
    "\n",
    "    def TestStatistic(self, data):\n",
    "        group1, group2 = data\n",
    "        test_stat = abs(group1.mean() - group2.mean())\n",
    "        return test_stat\n",
    "\n",
    "    def MakeModel(self):\n",
    "        group1, group2 = self.data\n",
    "        self.n, self.m = len(group1), len(group2)\n",
    "        self.pool = np.hstack((group1, group2))\n",
    "\n",
    "    def RunModel(self):\n",
    "        np.random.shuffle(self.pool)\n",
    "        data = self.pool[:self.n], self.pool[self.n:]\n",
    "        return data"
   ]
  },
  {
   "cell_type": "code",
   "execution_count": 7,
   "id": "0c6ab017-5259-4b2a-9b98-c17054a13716",
   "metadata": {},
   "outputs": [],
   "source": [
    "class CorrelationPermute(thinkstats2.HypothesisTest):\n",
    "\n",
    "    def TestStatistic(self, data):\n",
    "        xs, ys = data\n",
    "        test_stat = abs(thinkstats2.Corr(xs, ys))\n",
    "        return test_stat\n",
    "\n",
    "    def RunModel(self):\n",
    "        xs, ys = self.data\n",
    "        xs = np.random.permutation(xs)\n",
    "        return xs, ys"
   ]
  },
  {
   "cell_type": "code",
   "execution_count": 8,
   "id": "644b819d-8e1e-488f-9e34-ef80bcba9e3b",
   "metadata": {},
   "outputs": [],
   "source": [
    "class PregLengthTest(thinkstats2.HypothesisTest):\n",
    "\n",
    "    def MakeModel(self):\n",
    "        firsts, others = self.data\n",
    "        self.n = len(firsts)\n",
    "        self.pool = np.hstack((firsts, others))\n",
    "\n",
    "        pmf = thinkstats2.Pmf(self.pool)\n",
    "        self.values = range(35, 44)\n",
    "        self.expected_probs = np.array(pmf.Probs(self.values))\n",
    "\n",
    "    def RunModel(self):\n",
    "        np.random.shuffle(self.pool)\n",
    "        data = self.pool[:self.n], self.pool[self.n:]\n",
    "        return data\n",
    "    \n",
    "    def TestStatistic(self, data):\n",
    "        firsts, others = data\n",
    "        stat = self.ChiSquared(firsts) + self.ChiSquared(others)\n",
    "        return stat\n",
    "\n",
    "    def ChiSquared(self, lengths):\n",
    "        hist = thinkstats2.Hist(lengths)\n",
    "        observed = np.array(hist.Freqs(self.values))\n",
    "        expected = self.expected_probs * len(lengths)\n",
    "        stat = sum((observed - expected)**2 / expected)\n",
    "        return stat"
   ]
  },
  {
   "cell_type": "code",
   "execution_count": 9,
   "id": "271d2c58-678e-4fdf-bb1b-873173a02de9",
   "metadata": {},
   "outputs": [],
   "source": [
    "#here the function is running different tests 1000 times (iters),\n",
    "#live is the dataframe.\n",
    "\n",
    "def RunTests(live, iters=1000):\n",
    "    n = len(live)\n",
    "    firsts = live[live.birthord == 1]\n",
    "    others = live[live.birthord != 1]\n",
    "\n",
    "# 1st test is to verify the difference in mean pregnancy length using\n",
    "#the variable prglnght\n",
    "\n",
    "    data = firsts.prglngth.values, others.prglngth.values\n",
    "    ht = DiffMeansPermute(data)\n",
    "    p1 = ht.PValue(iters=iters)\n",
    "\n",
    "#2nd test is to check the difference in mean birth weight using the\n",
    "#variable totalwgt_lb    \n",
    "    \n",
    "    data = (firsts.totalwgt_lb.dropna().values,\n",
    "            others.totalwgt_lb.dropna().values)\n",
    "    ht = DiffMeansPermute(data)\n",
    "    p2 = ht.PValue(iters=iters)\n",
    "\n",
    "# 3rd test is the correlation of mother's age and birth weight\n",
    "#a new df  is created called live2, comparing the agepreg and totalwgt_lb\n",
    "#variables to see if there is a correlation.\n",
    "\n",
    "    live2 = live.dropna(subset=['agepreg', 'totalwgt_lb'])\n",
    "    data = live2.agepreg.values, live2.totalwgt_lb.values\n",
    "    ht = CorrelationPermute(data)\n",
    "    p3 = ht.PValue(iters=iters)\n",
    "\n",
    "# 4th test is the chi-square test of pregnancy length. \n",
    "\n",
    "    data = firsts.prglngth.values, others.prglngth.values\n",
    "    ht = PregLengthTest(data)\n",
    "    p4 = ht.PValue(iters=iters)\n",
    "\n",
    "    print('%d\\t%0.2f\\t%0.2f\\t%0.2f\\t%0.2f' % (n, p1, p2, p3, p4))"
   ]
  },
  {
   "cell_type": "code",
   "execution_count": 10,
   "id": "da39d976-b3ed-40bf-9674-ba08310bbe68",
   "metadata": {},
   "outputs": [
    {
     "name": "stdout",
     "output_type": "stream",
     "text": [
      "9148\t0.16\t0.00\t0.00\t0.00\n",
      "4574\t0.40\t0.01\t0.00\t0.00\n",
      "2287\t0.70\t0.01\t0.00\t0.00\n",
      "1143\t0.65\t0.35\t0.01\t0.00\n",
      "571\t0.57\t0.04\t0.12\t0.31\n",
      "285\t0.65\t0.27\t0.04\t0.27\n",
      "142\t0.76\t0.22\t0.49\t0.80\n"
     ]
    }
   ],
   "source": [
    "#considering a range of 7 groups, using samplerows to select a random \n",
    "#subset of rows in the data frame (live).\n",
    "\n",
    "n = len(live)\n",
    "for _ in range(7):\n",
    "    sample = thinkstats2.SampleRows(live, n)\n",
    "    RunTests(sample)\n",
    "    n //= 2    "
   ]
  },
  {
   "cell_type": "markdown",
   "id": "a64b7300-3c88-436b-869a-391e5bd0b2aa",
   "metadata": {},
   "source": [
    "As sample size decreases, the p-value increases.\n",
    "If sample size increases, p-values tend to be smaller, if the null hypothesis is false. "
   ]
  },
  {
   "cell_type": "code",
   "execution_count": null,
   "id": "5068e26d-91a6-4a13-87db-3075c2f2ba73",
   "metadata": {},
   "outputs": [],
   "source": []
  },
  {
   "cell_type": "code",
   "execution_count": null,
   "id": "eb904a98-79a2-4a45-a101-c7fc948fdbfb",
   "metadata": {},
   "outputs": [],
   "source": []
  },
  {
   "cell_type": "markdown",
   "id": "db06f316-70d7-4d41-9f7c-443750c283e0",
   "metadata": {},
   "source": [
    "Chapter 10\n",
    "Exercise 10.1"
   ]
  },
  {
   "cell_type": "code",
   "execution_count": 11,
   "id": "56a36674-a1a6-440f-b88d-0069d5db5d24",
   "metadata": {},
   "outputs": [],
   "source": [
    "from os.path import basename, exists\n",
    "\n",
    "\n",
    "def download(url):\n",
    "    filename = basename(url)\n",
    "    if not exists(filename):\n",
    "        from urllib.request import urlretrieve\n",
    "\n",
    "        local, _ = urlretrieve(url, filename)\n",
    "        print(\"Downloaded \" + local)\n",
    "\n",
    "\n",
    "download(\"https://github.com/AllenDowney/ThinkStats2/raw/master/code/thinkstats2.py\")\n",
    "download(\"https://github.com/AllenDowney/ThinkStats2/raw/master/code/thinkplot.py\")"
   ]
  },
  {
   "cell_type": "code",
   "execution_count": 12,
   "id": "878cb5b2-0ac9-4295-b1c7-aec8a7f7b3da",
   "metadata": {},
   "outputs": [],
   "source": [
    "import numpy as np\n",
    "\n",
    "import random\n",
    "\n",
    "import thinkstats2\n",
    "import thinkplot"
   ]
  },
  {
   "cell_type": "code",
   "execution_count": 13,
   "id": "6b64aa29-0cc8-4cf0-a9b9-18d19337a116",
   "metadata": {},
   "outputs": [],
   "source": [
    "download(\"https://github.com/AllenDowney/ThinkStats2/raw/master/code/brfss.py\")\n",
    "download(\"https://github.com/AllenDowney/ThinkStats2/raw/master/code/CDBRFS08.ASC.gz\")"
   ]
  },
  {
   "cell_type": "code",
   "execution_count": 14,
   "id": "774a10d1-7b2d-4264-ac45-1fd4b20a33f0",
   "metadata": {},
   "outputs": [],
   "source": [
    "import brfss\n",
    "\n",
    "df = brfss.ReadBrfss(nrows=None)\n",
    "df = df.dropna(subset=['htm3', 'wtkg2'])\n",
    "heights, weights = df.htm3, df.wtkg2\n",
    "log_weights = np.log10(weights)"
   ]
  },
  {
   "cell_type": "code",
   "execution_count": 15,
   "id": "2cbb3253-8b7d-42de-ba8b-d06c0ba35183",
   "metadata": {},
   "outputs": [
    {
     "data": {
      "text/plain": [
       "(0.993080416391812, 0.005281454169417809)"
      ]
     },
     "execution_count": 15,
     "metadata": {},
     "output_type": "execute_result"
    }
   ],
   "source": [
    "#Estimate intercept and slope.\n",
    "inter, slope = thinkstats2.LeastSquares(heights, log_weights)\n",
    "inter, slope"
   ]
  },
  {
   "cell_type": "code",
   "execution_count": 16,
   "id": "29c5cd47-61de-4f53-afd7-5e7941de7752",
   "metadata": {},
   "outputs": [],
   "source": [
    "#Use resampling to compute sampling distributions for inter and slope.\n",
    "t = []\n",
    "for _ in range(100):\n",
    "    sample = thinkstats2.ResampleRows(df)\n",
    "    estimates = thinkstats2.LeastSquares(sample.htm3, np.log10(sample.wtkg2))\n",
    "    t.append(estimates)\n",
    "\n",
    "inters, slopes = zip(*t)"
   ]
  },
  {
   "cell_type": "code",
   "execution_count": 17,
   "id": "64af2f04-fe74-422b-bc9b-4cb3f7904b20",
   "metadata": {},
   "outputs": [
    {
     "data": {
      "text/plain": [
       "{'xscale': 'linear', 'yscale': 'linear'}"
      ]
     },
     "execution_count": 17,
     "metadata": {},
     "output_type": "execute_result"
    },
    {
     "data": {
      "image/png": "[encoded data removed]",
      "text/plain": [
       "<Figure size 432x288 with 1 Axes>"
      ]
     },
     "metadata": {
      "needs_background": "light"
     },
     "output_type": "display_data"
    }
   ],
   "source": [
    "cdf = thinkstats2.Cdf(slopes)\n",
    "thinkplot.Cdf(cdf)"
   ]
  },
  {
   "cell_type": "code",
   "execution_count": 18,
   "id": "644e8d15-9709-47f8-8547-aed2c34d4383",
   "metadata": {},
   "outputs": [
    {
     "data": {
      "text/plain": [
       "(0.005257836970793534, 0.005305797573522085)"
      ]
     },
     "execution_count": 18,
     "metadata": {},
     "output_type": "execute_result"
    }
   ],
   "source": [
    "#Compute the 90% confidence interval of slope.\n",
    "ci = cdf.Percentile(5), cdf.Percentile(95)\n",
    "ci"
   ]
  },
  {
   "cell_type": "code",
   "execution_count": 19,
   "id": "4861ac10-21cb-4ae0-85a8-41af1eea8f26",
   "metadata": {},
   "outputs": [
    {
     "data": {
      "text/plain": [
       "0.005281607282914538"
      ]
     },
     "execution_count": 19,
     "metadata": {},
     "output_type": "execute_result"
    }
   ],
   "source": [
    "mean = thinkstats2.Mean(slopes)\n",
    "mean"
   ]
  },
  {
   "cell_type": "code",
   "execution_count": 20,
   "id": "88da1469-d572-4d44-bb39-7fce81e15139",
   "metadata": {},
   "outputs": [
    {
     "data": {
      "text/plain": [
       "1.4113968494708976e-05"
      ]
     },
     "execution_count": 20,
     "metadata": {},
     "output_type": "execute_result"
    }
   ],
   "source": [
    "stderr = thinkstats2.Std(slopes)\n",
    "stderr"
   ]
  },
  {
   "cell_type": "code",
   "execution_count": 21,
   "id": "a8e95220-0a44-4f56-ba33-3d9abc08b659",
   "metadata": {},
   "outputs": [],
   "source": [
    "def Summarize(estimates, actual=None):\n",
    "    mean = Mean(estimates)\n",
    "    stderr = Std(estimates, mu=actual)\n",
    "    cdf = thinkstats2.Cdf(estimates)\n",
    "    ci = cdf.ConfidenceInterval(90)\n",
    "    print('mean, SE, CI', mean, stderr, ci)"
   ]
  },
  {
   "cell_type": "code",
   "execution_count": 22,
   "id": "0a40487d-660e-4da0-a430-81de7a9c3058",
   "metadata": {},
   "outputs": [],
   "source": [
    "from thinkstats2 import Mean, MeanVar, Var, Std, Cov\n",
    "\n",
    "def LeastSquares(xs, ys):\n",
    "    meanx, varx = MeanVar(xs)\n",
    "    meany = Mean(ys)\n",
    "\n",
    "    slope = Cov(xs, ys, meanx, meany) / varx\n",
    "    inter = meany - slope * meanx\n",
    "\n",
    "    return inter, slope"
   ]
  },
  {
   "cell_type": "code",
   "execution_count": 23,
   "id": "38aa2f72-3b5d-4a63-95f8-f3b65c398322",
   "metadata": {},
   "outputs": [
    {
     "name": "stdout",
     "output_type": "stream",
     "text": [
      "mean, SE, CI 168.95705142585743 0.016092393745622404 (168.92796438893268, 168.98038814446534)\n"
     ]
    }
   ],
   "source": [
    "estimates_unweighted = [thinkstats2.ResampleRows(df).htm3.mean() for _ in range(100)]\n",
    "Summarize(estimates_unweighted)"
   ]
  },
  {
   "cell_type": "code",
   "execution_count": 24,
   "id": "97fba55c-b9bc-4e0a-b260-6b7997307844",
   "metadata": {},
   "outputs": [],
   "source": [
    "def ResampleRowsWeighted(df, column='finalwt'):\n",
    "    weights = df[column]\n",
    "    cdf = thinkstats2.Cdf(dict(weights))\n",
    "    indices = cdf.Sample(len(weights))\n",
    "    sample = df.loc[indices]\n",
    "    return sample"
   ]
  },
  {
   "cell_type": "code",
   "execution_count": 26,
   "id": "29c669a8-18c2-47da-bd6f-a930430a1879",
   "metadata": {},
   "outputs": [
    {
     "name": "stdout",
     "output_type": "stream",
     "text": [
      "mean, SE, CI 170.50397289759292 0.012834567077119366 (170.4767173952586, 170.52032427898703)\n"
     ]
    }
   ],
   "source": [
    "estimates_weighted = [ResampleRowsWeighted(df, 'finalwt').htm3.mean() for _ in range(10)]\n",
    "Summarize(estimates_weighted)"
   ]
  },
  {
   "cell_type": "code",
   "execution_count": 25,
   "id": "ba187907-7edc-482d-8fee-086514b51849",
   "metadata": {},
   "outputs": [],
   "source": [
    "# The estimated mean height is almost 2 cm taller \n",
    "# if we take into account the sampling weights,\n",
    "# and this difference is much bigger than the sampling error."
   ]
  },
  {
   "cell_type": "code",
   "execution_count": null,
   "id": "ec98fe99-8add-4d60-9301-a55e4adb489e",
   "metadata": {},
   "outputs": [],
   "source": []
  },
  {
   "cell_type": "code",
   "execution_count": null,
   "id": "838e637e-23f1-48ed-8aba-bb8b634316e3",
   "metadata": {},
   "outputs": [],
   "source": []
  }
 ],
 "metadata": {
  "kernelspec": {
   "display_name": "Python 3 (ipykernel)",
   "language": "python",
   "name": "python3"
  },
  "language_info": {
   "codemirror_mode": {
    "name": "ipython",
    "version": 3
   },
   "file_extension": ".py",
   "mimetype": "text/x-python",
   "name": "python",
   "nbconvert_exporter": "python",
   "pygments_lexer": "ipython3",
   "version": "3.9.12"
  }
 },
 "nbformat": 4,
 "nbformat_minor": 5
}
