{
 "cells": [
  {
   "cell_type": "markdown",
   "id": "b96dbeb6-b8a3-404f-9827-62adf554875e",
   "metadata": {},
   "source": [
    "Mariana MacDonald\n",
    "Week 5\n",
    "\n",
    "Chapters 5 and 6\n",
    "\n",
    "Chapter 5- Exercise 5.1"
   ]
  },
  {
   "cell_type": "markdown",
   "id": "c60059da-e027-424f-ad96-294d97cf3e3e",
   "metadata": {},
   "source": [
    "**Exercise:** In the BRFSS (see Section 5.4), the distribution of heights is roughly normal with parameters µ = 178 cm and σ = 7.7 cm for men, and µ = 163 cm and σ = 7.3 cm for women.\n",
    "\n",
    "In order to join Blue Man Group, you have to be male between 5’10” and 6’1” (see http://bluemancasting.com). What percentage of the U.S. male population is in this range? Hint: use `scipy.stats.norm.cdf`."
   ]
  },
  {
   "cell_type": "markdown",
   "id": "d841d7cf-3605-4777-9374-b3f39240b240",
   "metadata": {},
   "source": [
    "`scipy.stats` contains objects that represent analytic distributions"
   ]
  },
  {
   "cell_type": "code",
   "execution_count": 34,
   "id": "2ed5bd93-2cc0-4681-80e9-35fea6afea7d",
   "metadata": {},
   "outputs": [],
   "source": [
    "import scipy.stats"
   ]
  },
  {
   "cell_type": "markdown",
   "id": "0a714e96-5cc6-4db3-adfa-a9a7855d9a98",
   "metadata": {},
   "source": [
    "For example scipy.stats.norm represents a normal distribution."
   ]
  },
  {
   "cell_type": "code",
   "execution_count": 35,
   "id": "b4104399-df4e-4385-a21d-0919bf1ccdc2",
   "metadata": {},
   "outputs": [
    {
     "data": {
      "text/plain": [
       "scipy.stats._distn_infrastructure.rv_frozen"
      ]
     },
     "execution_count": 35,
     "metadata": {},
     "output_type": "execute_result"
    }
   ],
   "source": [
    "mu = 178\n",
    "sigma = 7.7\n",
    "dist = scipy.stats.norm(loc=mu, scale=sigma)\n",
    "type(dist)"
   ]
  },
  {
   "cell_type": "markdown",
   "id": "cc9401ac-9a5f-4be5-b37d-ea5e25791169",
   "metadata": {},
   "source": [
    "scipy.stats._distn_infrastructure.rv_frozen"
   ]
  },
  {
   "cell_type": "markdown",
   "id": "b08db983-bdd3-4a9f-b8a4-c7835068b992",
   "metadata": {},
   "source": [
    "A \"frozen random variable\" can compute its mean and standard deviation."
   ]
  },
  {
   "cell_type": "code",
   "execution_count": 36,
   "id": "7cebb80a-4cf6-47f3-9d12-7689f8fbe551",
   "metadata": {},
   "outputs": [
    {
     "data": {
      "text/plain": [
       "(178.0, 7.7)"
      ]
     },
     "execution_count": 36,
     "metadata": {},
     "output_type": "execute_result"
    }
   ],
   "source": [
    "dist.mean(), dist.std()"
   ]
  },
  {
   "cell_type": "markdown",
   "id": "0bf8ca49-a4f3-4990-ae0f-b431bac653e6",
   "metadata": {},
   "source": [
    "It can also evaluate its CDF.  How many people are below the mean by more than one standard deviation?  About 16%"
   ]
  },
  {
   "cell_type": "code",
   "execution_count": 37,
   "id": "ea7b51eb-e4e5-4923-9ef0-5312abf57bdb",
   "metadata": {},
   "outputs": [
    {
     "data": {
      "text/plain": [
       "0.1586552539314574"
      ]
     },
     "execution_count": 37,
     "metadata": {},
     "output_type": "execute_result"
    }
   ],
   "source": [
    "dist.cdf(mu - sigma)"
   ]
  },
  {
   "cell_type": "markdown",
   "id": "1e08fa4e-478d-42c9-b926-c5866b223ebb",
   "metadata": {},
   "source": [
    "How many people are between 5'10\" and 6'1\"?"
   ]
  },
  {
   "cell_type": "code",
   "execution_count": 38,
   "id": "f395ff6e-d0c9-40cb-8b38-7c8d00cf2fd8",
   "metadata": {},
   "outputs": [
    {
     "name": "stdout",
     "output_type": "stream",
     "text": [
      "In cm,  177.8\n",
      "In cm,  185.42\n"
     ]
    }
   ],
   "source": [
    "# Convert inches to cm (I found this formula on stackoverflow to convert ft multiple\n",
    "#the feet by 12 and sum 10.\n",
    "\n",
    "min_height = 2.54 * (5*12+10)\n",
    "max_height = 2.54 * (6*12+1)\n",
    "\n",
    "print(('In cm, '), + (round(min_height,2)))\n",
    "print(('In cm, '), + (round(max_height,2)))\n"
   ]
  },
  {
   "cell_type": "code",
   "execution_count": 39,
   "id": "30d360c4-11c3-4675-bfec-a6fa93454d11",
   "metadata": {},
   "outputs": [
    {
     "name": "stdout",
     "output_type": "stream",
     "text": [
      "49\n",
      "83\n",
      "34\n"
     ]
    }
   ],
   "source": [
    "# evaluate the CDF.\n",
    "#A cumulative distribution function (CDF) is defined as a function F(x) \n",
    "#that is the probability that a random variable c, from a particular distribution,\n",
    "#is less than x.\n",
    "\n",
    "#calculated the % of men population that is at the 5'10'' height (49%)\n",
    "min = dist.cdf(min_height)*100\n",
    "print(round(min))\n",
    "\n",
    "#calculated the % of men population that is at the 6'1'' height (83%)\n",
    "max = dist.cdf(max_height)*100\n",
    "print(round(max))\n",
    "\n",
    "#calculated the % of men population that is in this range (5'10'' to 6'1'') (34%)\n",
    "percentage = max - min\n",
    "print(round(percentage))"
   ]
  },
  {
   "cell_type": "markdown",
   "id": "314f6efe-080e-4ea0-9c68-6bc3267c3e5a",
   "metadata": {},
   "source": [
    "About 34% of the men population would be able to join Blue Man Group."
   ]
  },
  {
   "cell_type": "code",
   "execution_count": null,
   "id": "fdf800f9-c9f3-4f92-8d15-558ca6017b54",
   "metadata": {},
   "outputs": [],
   "source": []
  },
  {
   "cell_type": "code",
   "execution_count": null,
   "id": "c666eff9-1662-4175-a7cd-5828e50e3bb5",
   "metadata": {},
   "outputs": [],
   "source": []
  },
  {
   "cell_type": "code",
   "execution_count": null,
   "id": "6239a1fd-749a-4ce3-ba1e-5ddc731c6e59",
   "metadata": {},
   "outputs": [],
   "source": []
  },
  {
   "cell_type": "markdown",
   "id": "95e02dbd-5036-4cfa-bae3-2851af02f2de",
   "metadata": {},
   "source": [
    "Chapter 5\n",
    "Exercise 5.2"
   ]
  },
  {
   "cell_type": "markdown",
   "id": "ddd17070-308f-4c78-9bcd-83ee253f5a91",
   "metadata": {},
   "source": [
    "**Exercise:** To get a feel for the Pareto distribution, let’s see how different the world would be if the distribution of human height were Pareto. With the parameters xm = 1 m and α = 1.7, we get a distribution with a reasonable minimum, 1 m, and median, 1.5 m.\n",
    "\n",
    "Plot this distribution. What is the mean human height in Pareto world? What fraction of the population is shorter than the mean? If there are 7 billion people in Pareto world, how many do we expect to be taller than 1 km? How tall do we expect the tallest person to be?\n",
    "\n",
    "`scipy.stats.pareto` represents a pareto distribution.  In Pareto world, the distribution of human heights has parameters alpha=1.7 and xmin=1 meter.  So the shortest person is 100 cm and the median is 150."
   ]
  },
  {
   "cell_type": "code",
   "execution_count": 40,
   "id": "72b792a0-bc01-4e86-ac9f-606542600c08",
   "metadata": {},
   "outputs": [
    {
     "data": {
      "text/plain": [
       "1.5034066538560549"
      ]
     },
     "execution_count": 40,
     "metadata": {},
     "output_type": "execute_result"
    }
   ],
   "source": [
    "alpha = 1.7\n",
    "xmin = 1  # meter\n",
    "dist = scipy.stats.pareto(b=alpha, scale=xmin)\n",
    "dist.median()"
   ]
  },
  {
   "cell_type": "markdown",
   "id": "17bb589b-6311-4552-b234-3f6999672885",
   "metadata": {},
   "source": [
    "What is the mean height in Pareto world?"
   ]
  },
  {
   "cell_type": "code",
   "execution_count": 41,
   "id": "cb64f6e7-3c96-4000-9e4f-740b22cbbdfc",
   "metadata": {},
   "outputs": [
    {
     "name": "stdout",
     "output_type": "stream",
     "text": [
      "In meters,  2.43\n"
     ]
    }
   ],
   "source": [
    "# here I calculated the mean in meters\n",
    "\n",
    "#calculate = (alpha - xmin)/alpha-1)\n",
    "#calculate = (1.7/0.7)\n",
    "#print(calculate)\n",
    "\n",
    "mean_height = dist.mean()\n",
    "print(('In meters, '), + (round(mean_height,2)))"
   ]
  },
  {
   "cell_type": "markdown",
   "id": "6dfb4f13-5139-4231-9c71-41df6d9971a3",
   "metadata": {},
   "source": [
    "What fraction of people are shorter than the mean?"
   ]
  },
  {
   "cell_type": "code",
   "execution_count": 42,
   "id": "7bc770a9-88cb-4ade-a2a5-fdf8654babad",
   "metadata": {},
   "outputs": [
    {
     "name": "stdout",
     "output_type": "stream",
     "text": [
      "77.87\n"
     ]
    }
   ],
   "source": [
    "#here I used the CDF to calculate the % that are shorter than the \n",
    "#mean calculated above.\n",
    "\n",
    "fraction_shorter = dist.cdf(mean_height)*100\n",
    "print(round(fraction_shorter,2))"
   ]
  },
  {
   "cell_type": "markdown",
   "id": "21b88190-7f9b-43fa-ba69-078128d2b056",
   "metadata": {},
   "source": [
    "Out of 7 billion people, how many do we expect to be taller than 1 km?  You could use dist.cdf  or dist.sf."
   ]
  },
  {
   "cell_type": "code",
   "execution_count": 43,
   "id": "2ac88bb7-1ea7-45d1-9d44-fd6a98c15fa3",
   "metadata": {},
   "outputs": [
    {
     "name": "stdout",
     "output_type": "stream",
     "text": [
      "55602.976430479954\n"
     ]
    }
   ],
   "source": [
    "#since xmin = 1 meter, I need to convert 1km to meters = 1000 meters\n",
    "\n",
    "taller_than_1km = (1 - dist.cdf(1000)) * 7000000000\n",
    "print(taller_than_1km)"
   ]
  },
  {
   "cell_type": "markdown",
   "id": "cf91cab9-846b-4308-a499-532a489584ae",
   "metadata": {},
   "source": [
    "About 55,602 people would be taller than 1km."
   ]
  },
  {
   "cell_type": "markdown",
   "id": "b3567ef8-776b-4d7b-910e-b32efcdf7fad",
   "metadata": {},
   "source": [
    "How tall do we expect the tallest person to be?"
   ]
  },
  {
   "cell_type": "code",
   "execution_count": 44,
   "id": "e06f4213-9c0c-4fa8-b96c-fb62a207191f",
   "metadata": {},
   "outputs": [
    {
     "data": {
      "text/plain": [
       "618.3496106759505"
      ]
     },
     "execution_count": 44,
     "metadata": {},
     "output_type": "execute_result"
    }
   ],
   "source": [
    "#Using ppf (percent point function), which is the inverse CDF. \n",
    "\n",
    "dist.ppf(1 - 1 / 7000000000)/1000"
   ]
  },
  {
   "cell_type": "markdown",
   "id": "d4b89ac0-2558-4e9c-91de-f32561baf813",
   "metadata": {},
   "source": [
    "The tallest person would be about 618km."
   ]
  },
  {
   "cell_type": "code",
   "execution_count": null,
   "id": "6faf3996-50a8-4759-8556-8d7bd07f309c",
   "metadata": {},
   "outputs": [],
   "source": []
  },
  {
   "cell_type": "code",
   "execution_count": null,
   "id": "5876b3f0-93b0-4342-9d4f-f365766f6658",
   "metadata": {},
   "outputs": [],
   "source": []
  },
  {
   "cell_type": "markdown",
   "id": "b9252a8f-9ebb-4f84-b78f-413c1627b64a",
   "metadata": {},
   "source": [
    "Chapter 6\n",
    "Exercise 6.1"
   ]
  },
  {
   "cell_type": "markdown",
   "id": "38b9e6fb-58d0-416f-a181-addfbb105c43",
   "metadata": {},
   "source": [
    "The distribution of income is famously skewed to the right. In this exercise, we’ll measure how strong that skew is.\n",
    "The Current Population Survey (CPS) is a joint effort of the Bureau of Labor Statistics and the Census Bureau to study income and related variables. Data collected in 2013 is available from http://www.census.gov/hhes/www/cpstables/032013/hhinc/toc.htm. I downloaded `hinc06.xls`, which is an Excel spreadsheet with information about household income, and converted it to `hinc06.csv`, a CSV file you will find in the repository for this book. You will also find `hinc2.py`, which reads this file and transforms the data.\n",
    "\n",
    "The dataset is in the form of a series of income ranges and the number of respondents who fell in each range. The lowest range includes respondents who reported annual household income “Under \\$5000.” The highest range includes respondents who made “\\$250,000 or more.”\n",
    "\n",
    "To estimate mean and other statistics from these data, we have to make some assumptions about the lower and upper bounds, and how the values are distributed in each range. `hinc2.py` provides `InterpolateSample`, which shows one way to model this data. It takes a `DataFrame` with a column, `income`, that contains the upper bound of each range, and `freq`, which contains the number of respondents in each frame.\n",
    "\n",
    "It also takes `log_upper`, which is an assumed upper bound on the highest range, expressed in `log10` dollars. The default value, `log_upper=6.0` represents the assumption that the largest income among the respondents is $10^6$, or one million dollars.\n",
    "\n",
    "`InterpolateSample` generates a pseudo-sample; that is, a sample of household incomes that yields the same number of respondents in each range as the actual data. It assumes that incomes in each range are equally spaced on a `log10` scale."
   ]
  },
  {
   "cell_type": "code",
   "execution_count": 45,
   "id": "2d6fc796-e983-4fed-84ab-05b414efd1c6",
   "metadata": {},
   "outputs": [],
   "source": [
    "from os.path import basename, exists\n",
    "\n",
    "\n",
    "def download(url):\n",
    "    filename = basename(url)\n",
    "    if not exists(filename):\n",
    "        from urllib.request import urlretrieve\n",
    "\n",
    "        local, _ = urlretrieve(url, filename)\n",
    "        print(\"Downloaded \" + local)\n",
    "\n",
    "\n",
    "download(\"https://github.com/AllenDowney/ThinkStats2/raw/master/code/thinkstats2.py\")\n",
    "download(\"https://github.com/AllenDowney/ThinkStats2/raw/master/code/thinkplot.py\")"
   ]
  },
  {
   "cell_type": "code",
   "execution_count": 46,
   "id": "c4b53909-5f4a-4403-af16-11e155064057",
   "metadata": {},
   "outputs": [],
   "source": [
    "import numpy as np\n",
    "\n",
    "import thinkstats2\n",
    "import thinkplot"
   ]
  },
  {
   "cell_type": "code",
   "execution_count": 47,
   "id": "9186f358-e287-4bab-82ce-a6bd54547321",
   "metadata": {},
   "outputs": [],
   "source": [
    "def InterpolateSample(df, log_upper=6.0):\n",
    "    \"\"\"Makes a sample of log10 household income.\n",
    "\n",
    "    Assumes that log10 income is uniform in each range.\n",
    "\n",
    "    df: DataFrame with columns income and freq\n",
    "    log_upper: log10 of the assumed upper bound for the highest range\n",
    "\n",
    "    returns: NumPy array of log10 household income\n",
    "    \"\"\"\n",
    "    # compute the log10 of the upper bound for each range\n",
    "    df['log_upper'] = np.log10(df.income)\n",
    "\n",
    "    # get the lower bounds by shifting the upper bound and filling in\n",
    "    # the first element\n",
    "    df['log_lower'] = df.log_upper.shift(1)\n",
    "    df.loc[0, 'log_lower'] = 3.0\n",
    "\n",
    "    # plug in a value for the unknown upper bound of the highest range\n",
    "    df.loc[41, 'log_upper'] = log_upper\n",
    "    \n",
    "    # use the freq column to generate the right number of values in\n",
    "    # each range\n",
    "    arrays = []\n",
    "    for _, row in df.iterrows():\n",
    "        vals = np.linspace(row.log_lower, row.log_upper, int(row.freq))\n",
    "        arrays.append(vals)\n",
    "\n",
    "    # collect the arrays into a single sample\n",
    "    log_sample = np.concatenate(arrays)\n",
    "    return log_sample\n"
   ]
  },
  {
   "cell_type": "code",
   "execution_count": 48,
   "id": "1724370d-8fb5-4b88-938c-bb7cc87c8373",
   "metadata": {},
   "outputs": [],
   "source": [
    "download(\"https://github.com/AllenDowney/ThinkStats2/raw/master/code/hinc.py\")\n",
    "download(\"https://github.com/AllenDowney/ThinkStats2/raw/master/code/hinc06.csv\")"
   ]
  },
  {
   "cell_type": "code",
   "execution_count": 73,
   "id": "0f87afee-1f3d-41c9-b701-1f9e0545c330",
   "metadata": {},
   "outputs": [],
   "source": [
    "import hinc\n",
    "income_df = hinc.ReadData()"
   ]
  },
  {
   "cell_type": "code",
   "execution_count": 90,
   "id": "1b621d0b-8593-4143-b45b-0dd109ec3207",
   "metadata": {},
   "outputs": [],
   "source": [
    "log_sample = InterpolateSample(income_df, log_upper=6.0)"
   ]
  },
  {
   "cell_type": "code",
   "execution_count": 91,
   "id": "6ec81a73-6079-4c00-a243-a78aedab7c1a",
   "metadata": {},
   "outputs": [],
   "source": [
    "sample = np.power(10, log_sample)"
   ]
  },
  {
   "cell_type": "markdown",
   "id": "699d2ca9-c836-43c4-a314-6896d381c088",
   "metadata": {},
   "source": [
    "Compute the median, mean, skewness and Pearson’s skewness of the resulting sample. What fraction of households report a taxable income below the mean? How do the results depend on the assumed upper bound?"
   ]
  },
  {
   "cell_type": "code",
   "execution_count": 92,
   "id": "fbea3a73-cc59-4eeb-8b66-6b67b44448a3",
   "metadata": {},
   "outputs": [
    {
     "data": {
      "text/plain": [
       "51226.45447894046"
      ]
     },
     "execution_count": 92,
     "metadata": {},
     "output_type": "execute_result"
    }
   ],
   "source": [
    "#Here I calculated the median of the sample\n",
    "\n",
    "def Median(xs):\n",
    "    cdf = thinkstats2.Cdf(xs)\n",
    "    return cdf.Value(0.5)\n",
    "\n",
    "Median(sample)"
   ]
  },
  {
   "cell_type": "code",
   "execution_count": 93,
   "id": "62fc92ec-f349-4bf9-a981-763ce9243195",
   "metadata": {},
   "outputs": [],
   "source": [
    "def RawMoment(xs, k):\n",
    "    return sum(x**k for x in xs) / len(xs)"
   ]
  },
  {
   "cell_type": "code",
   "execution_count": 94,
   "id": "20e79a3c-f823-4d9c-bb35-292a3986119e",
   "metadata": {},
   "outputs": [
    {
     "name": "stdout",
     "output_type": "stream",
     "text": [
      "74278.70753118733\n"
     ]
    }
   ],
   "source": [
    "#Here I calculated the mean of the sample. I created a variable called mean_sample\n",
    "#so I could use at the fraction less then the mean below\n",
    "def Mean(xs):\n",
    "    return RawMoment(xs, 1)\n",
    "\n",
    "mean_sample = Mean(sample)\n",
    "print(mean_sample)"
   ]
  },
  {
   "cell_type": "code",
   "execution_count": 95,
   "id": "7d5861b6-83ad-47c9-bb06-bf683c1aaef9",
   "metadata": {},
   "outputs": [
    {
     "data": {
      "text/plain": [
       "4.949920244429583"
      ]
     },
     "execution_count": 95,
     "metadata": {},
     "output_type": "execute_result"
    }
   ],
   "source": [
    "#here I calculated the skewness \n",
    "def StandardizedMoment(xs, k):\n",
    "    var = CentralMoment(xs, 2)\n",
    "    std = np.sqrt(var)\n",
    "    return CentralMoment(xs, k) / std**k\n",
    "\n",
    "def Skewness(xs):\n",
    "    return StandardizedMoment(xs, 3)\n",
    "\n",
    "Skewness(sample)"
   ]
  },
  {
   "cell_type": "markdown",
   "id": "25e1cc03-1791-4630-a3b9-7d67fe05d91a",
   "metadata": {},
   "source": [
    "The 4.94 skewness is positive and indicate its skewed right (longer tail)"
   ]
  },
  {
   "cell_type": "code",
   "execution_count": 96,
   "id": "6df83ce4-af4b-46ea-b924-8904842fb1d2",
   "metadata": {},
   "outputs": [
    {
     "data": {
      "text/plain": [
       "0.7361258019141782"
      ]
     },
     "execution_count": 96,
     "metadata": {},
     "output_type": "execute_result"
    }
   ],
   "source": [
    "#calculated the Pearson Median Skewness\n",
    "def PearsonMedianSkewness(xs):\n",
    "    median = Median(xs)\n",
    "    mean = RawMoment(xs, 1)\n",
    "    var = CentralMoment(xs, 2)\n",
    "    std = np.sqrt(var)\n",
    "    gp = 3 * (mean - median) / std\n",
    "    return gp\n",
    "\n",
    "PearsonMedianSkewness(sample)"
   ]
  },
  {
   "cell_type": "code",
   "execution_count": 97,
   "id": "9888967e-d318-4f16-821c-e2915a422df4",
   "metadata": {},
   "outputs": [
    {
     "name": "stdout",
     "output_type": "stream",
     "text": [
      "66.0\n"
     ]
    }
   ],
   "source": [
    "#verified the fraction of population that income is less than the mean in %\n",
    "fraction_less_mean = cdf.Prob(mean_sample)*100\n",
    "print(round(fraction_less_mean,2))"
   ]
  },
  {
   "cell_type": "markdown",
   "id": "9838099c-33b7-4b21-9d78-efb4be16696e",
   "metadata": {},
   "source": [
    "66% of households report a taxable income below the mean. Since the dataset is in a form of a series of income ranges, if I change the upper limit, the mean will increase. I did a test and changing the log_upper from 6 (one million) to 7(10 million), that would bring the mean to 124,267 and the fraction of population below that to 85%. The skewness increases to 11.60 which will make the tail longer to the right."
   ]
  },
  {
   "cell_type": "markdown",
   "id": "11806d71-9149-49b9-be99-baa5f66bcbb4",
   "metadata": {},
   "source": [
    "All of this is based on an assumption that the highest income is one million dollars, but that's certainly not correct.  What happens to the skew if the upper bound is 10 million?\n",
    "\n",
    "\n",
    "\n",
    "Without better information about the top of this distribution, we can't say much about the skewness of the distribution."
   ]
  },
  {
   "cell_type": "code",
   "execution_count": null,
   "id": "c2db5a35-7c7f-49d0-9cf1-830a3ad545e3",
   "metadata": {},
   "outputs": [],
   "source": []
  }
 ],
 "metadata": {
  "kernelspec": {
   "display_name": "Python 3 (ipykernel)",
   "language": "python",
   "name": "python3"
  },
  "language_info": {
   "codemirror_mode": {
    "name": "ipython",
    "version": 3
   },
   "file_extension": ".py",
   "mimetype": "text/x-python",
   "name": "python",
   "nbconvert_exporter": "python",
   "pygments_lexer": "ipython3",
   "version": "3.9.12"
  }
 },
 "nbformat": 4,
 "nbformat_minor": 5
}
