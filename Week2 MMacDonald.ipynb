{
 "cells": [
  {
   "cell_type": "markdown",
   "id": "78a19a72-e603-4307-b1ac-a2c9552b0c03",
   "metadata": {},
   "source": [
    "Mariana MacDonald - Assignment 1 - Week 2"
   ]
  },
  {
   "cell_type": "markdown",
   "id": "514c3320-486c-4c5b-abbf-d4c392336bc5",
   "metadata": {},
   "source": [
    "Display the text “Hello World! I wonder why that is always the default coding text to start with”"
   ]
  },
  {
   "cell_type": "code",
   "execution_count": 4,
   "id": "b232ddac-28ae-4301-b81e-2b94be8e3cae",
   "metadata": {},
   "outputs": [
    {
     "name": "stdout",
     "output_type": "stream",
     "text": [
      "Hello World! I wonder why that is always the default coding text to start with.\n"
     ]
    }
   ],
   "source": [
    "hello = (\"Hello World! I wonder why that is always the default coding text to start with.\")\n",
    "print(hello)"
   ]
  },
  {
   "cell_type": "markdown",
   "id": "4117a1f8-d998-4bce-9866-77260afe3a7f",
   "metadata": {},
   "source": [
    "Add two numbers together"
   ]
  },
  {
   "cell_type": "code",
   "execution_count": 6,
   "id": "4ec9af94-8840-4448-b9e2-9eeeb249d39b",
   "metadata": {},
   "outputs": [
    {
     "data": {
      "text/plain": [
       "4"
      ]
     },
     "execution_count": 6,
     "metadata": {},
     "output_type": "execute_result"
    }
   ],
   "source": [
    "2+2"
   ]
  },
  {
   "cell_type": "markdown",
   "id": "c54c1e0b-bbec-4ac0-b414-e4c7f4bc7e8d",
   "metadata": {},
   "source": [
    "Subtract a number from another number"
   ]
  },
  {
   "cell_type": "code",
   "execution_count": 8,
   "id": "ebac21c2-d5b7-433d-be6c-ad7db889ac32",
   "metadata": {},
   "outputs": [
    {
     "data": {
      "text/plain": [
       "5"
      ]
     },
     "execution_count": 8,
     "metadata": {},
     "output_type": "execute_result"
    }
   ],
   "source": [
    "10-5"
   ]
  },
  {
   "cell_type": "markdown",
   "id": "5d2ce1ef-0c8c-440d-9b2d-95e451beb304",
   "metadata": {},
   "source": [
    "Multiply two numbers"
   ]
  },
  {
   "cell_type": "code",
   "execution_count": 10,
   "id": "13a9bc8f-73f6-405b-812e-6e6ea42d1507",
   "metadata": {},
   "outputs": [
    {
     "data": {
      "text/plain": [
       "4"
      ]
     },
     "execution_count": 10,
     "metadata": {},
     "output_type": "execute_result"
    }
   ],
   "source": [
    "2*2"
   ]
  },
  {
   "cell_type": "markdown",
   "id": "09d88ca2-224e-4cb3-bae2-ebed7fe9ec54",
   "metadata": {},
   "source": [
    "Divide between two numbers"
   ]
  },
  {
   "cell_type": "code",
   "execution_count": 12,
   "id": "7f5f6a14-3358-47c3-9494-412dd3d0ed4a",
   "metadata": {},
   "outputs": [
    {
     "data": {
      "text/plain": [
       "2.0"
      ]
     },
     "execution_count": 12,
     "metadata": {},
     "output_type": "execute_result"
    }
   ],
   "source": [
    "10/5"
   ]
  },
  {
   "cell_type": "markdown",
   "id": "b3b2bfe8-8fc2-4769-bedd-ad4105a915ce",
   "metadata": {},
   "source": [
    "Concatenate two strings together (any words)"
   ]
  },
  {
   "cell_type": "code",
   "execution_count": 13,
   "id": "cb48c5a8-9305-44aa-a1dc-03e648ce5ed9",
   "metadata": {},
   "outputs": [
    {
     "data": {
      "text/plain": [
       "'You are learning Python'"
      ]
     },
     "execution_count": 13,
     "metadata": {},
     "output_type": "execute_result"
    }
   ],
   "source": [
    "\"You are\" + \" learning Python\""
   ]
  },
  {
   "cell_type": "markdown",
   "id": "d58667dd-4f0f-4ab8-b08d-ef12ed1dee86",
   "metadata": {},
   "source": [
    "Create a list of 4 items (can be strings, numbers, both)"
   ]
  },
  {
   "cell_type": "code",
   "execution_count": 14,
   "id": "a722501d-4425-4255-b327-d2e7a7b9ae3a",
   "metadata": {},
   "outputs": [
    {
     "name": "stdout",
     "output_type": "stream",
     "text": [
      "['cats', 'dogs', 'rabbits', 'squirrels']\n"
     ]
    }
   ],
   "source": [
    "animallist=[\"cats\", \"dogs\", \"rabbits\", \"squirrels\"]\n",
    "print(animallist)"
   ]
  },
  {
   "cell_type": "markdown",
   "id": "e22f729c-1c5e-4c6c-9467-c721d4453a77",
   "metadata": {},
   "source": [
    "Append an item to your list (again, can be a string, number)"
   ]
  },
  {
   "cell_type": "code",
   "execution_count": 15,
   "id": "71504e71-eaa9-4a20-8717-09b264ae2626",
   "metadata": {},
   "outputs": [
    {
     "data": {
      "text/plain": [
       "['cats', 'dogs', 'rabbits', 'squirrels', 'rats']"
      ]
     },
     "execution_count": 15,
     "metadata": {},
     "output_type": "execute_result"
    }
   ],
   "source": [
    "animallist.append(\"rats\")\n",
    "animallist"
   ]
  },
  {
   "cell_type": "markdown",
   "id": "71a2e189-2c33-465c-8a12-aab55830869b",
   "metadata": {},
   "source": [
    "Create a tuple with 4 items (can be strings, numbers, both)"
   ]
  },
  {
   "cell_type": "code",
   "execution_count": 16,
   "id": "3e7b1ef3-0816-497a-8956-34d600bbb429",
   "metadata": {},
   "outputs": [
    {
     "name": "stdout",
     "output_type": "stream",
     "text": [
      "('elephant', 'giraffe', 'snake', 'fish')\n"
     ]
    }
   ],
   "source": [
    "animaltuple=(\"elephant\", \"giraffe\", \"snake\", \"fish\")\n",
    "print(animaltuple)"
   ]
  }
 ],
 "metadata": {
  "kernelspec": {
   "display_name": "Python 3 (ipykernel)",
   "language": "python",
   "name": "python3"
  },
  "language_info": {
   "codemirror_mode": {
    "name": "ipython",
    "version": 3
   },
   "file_extension": ".py",
   "mimetype": "text/x-python",
   "name": "python",
   "nbconvert_exporter": "python",
   "pygments_lexer": "ipython3",
   "version": "3.9.12"
  }
 },
 "nbformat": 4,
 "nbformat_minor": 5
}
